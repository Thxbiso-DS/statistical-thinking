{
 "cells": [
  {
   "cell_type": "markdown",
   "metadata": {},
   "source": [
    "# 0. Introduction\n",
    "\n",
    "In 2015, the United Nations developed a set of 8 goals known as The Millennium Development Goals. These goals were developed as methods to improve the conditions of the planet as well as our living conditions.\n",
    "\n",
    "From these goals, *Goal 7: Ensure environmental sustainability*, with its key indicators, will be the basis for the exploratory data analysis that will be done on the dataset obtained on the Millenium Development Goals [site](http://mdgs.un.org/). Using the dataset the EDA will focus on answering the questions posed on the African coding network instructions [page](http://syllabus.africacode.net/projects/data-science-specific/statistical-thinking/).\n"
   ]
  },
  {
   "cell_type": "markdown",
   "metadata": {},
   "source": [
    "## 0.1 Installing the required packages\n",
    "\n",
    "To perform the analysis with the given questions, the required Python packages will be installed onto the notebook, those being numpy, pandas, matplotlib, scipy and seaborn."
   ]
  },
  {
   "cell_type": "code",
   "execution_count": 1,
   "metadata": {},
   "outputs": [],
   "source": [
    "import numpy as np\n",
    "import matplotlib.pyplot as plt\n",
    "import pandas as pd\n",
    "import seaborn as sns\n",
    "import scipy.stats as sp\n",
    "import statsmodels.api as sm"
   ]
  },
  {
   "cell_type": "markdown",
   "metadata": {},
   "source": [
    "___"
   ]
  },
  {
   "cell_type": "markdown",
   "metadata": {},
   "source": [
    "# 1 Data Processing and Cleaning \n",
    "\n",
    "The next stage involves reading the data, knowing how it is structured, looking at a summarized version of the dataframe and making any changes to the dataframe, either through the cleaning or answering some minor questions before taking a deeper dive into the analysis part.\n",
    "\n",
    "Now that the libraries that will be used have been installed the next step is to read the csv file with an appropriate dataframe name."
   ]
  },
  {
   "cell_type": "code",
   "execution_count": 2,
   "metadata": {},
   "outputs": [],
   "source": [
    "mdg_raw_df = pd.read_csv(\"../data/MDG_Export_20191227.csv\", sep=',', skipinitialspace=True)"
   ]
  },
  {
   "cell_type": "markdown",
   "metadata": {},
   "source": [
    "The code to read in the csv file takes into account the fact that there are spaces in between certain commas and this would make them appear as empty spaces in the df making the cleaning, processing and analysis difficult.\n"
   ]
  },
  {
   "cell_type": "markdown",
   "metadata": {},
   "source": [
    " Next step is to find out what type of data this csv file consists of."
   ]
  },
  {
   "cell_type": "code",
   "execution_count": 3,
   "metadata": {},
   "outputs": [
    {
     "name": "stdout",
     "output_type": "stream",
     "text": [
      "<class 'pandas.core.frame.DataFrame'>\n",
      "RangeIndex: 690 entries, 0 to 689\n",
      "Data columns (total 95 columns):\n",
      " #   Column        Non-Null Count  Dtype  \n",
      "---  ------        --------------  -----  \n",
      " 0   CountryCode   690 non-null    int64  \n",
      " 1   Country       690 non-null    object \n",
      " 2   SeriesCode    690 non-null    int64  \n",
      " 3   MDG           690 non-null    object \n",
      " 4   Series        690 non-null    object \n",
      " 5   1990          627 non-null    float64\n",
      " 6   Footnotes     5 non-null      float64\n",
      " 7   Type          628 non-null    object \n",
      " 8   1991          182 non-null    float64\n",
      " 9   Footnotes.1   0 non-null      float64\n",
      " 10  Type.1        182 non-null    object \n",
      " 11  1992          204 non-null    float64\n",
      " 12  Footnotes.2   0 non-null      float64\n",
      " 13  Type.2        204 non-null    object \n",
      " 14  1993          204 non-null    float64\n",
      " 15  Footnotes.3   0 non-null      float64\n",
      " 16  Type.3        204 non-null    object \n",
      " 17  1994          205 non-null    float64\n",
      " 18  Footnotes.4   0 non-null      float64\n",
      " 19  Type.4        205 non-null    object \n",
      " 20  1995          207 non-null    float64\n",
      " 21  Footnotes.5   0 non-null      float64\n",
      " 22  Type.5        207 non-null    object \n",
      " 23  1996          206 non-null    float64\n",
      " 24  Footnotes.6   0 non-null      float64\n",
      " 25  Type.6        206 non-null    object \n",
      " 26  1997          209 non-null    float64\n",
      " 27  Footnotes.7   0 non-null      float64\n",
      " 28  Type.7        209 non-null    object \n",
      " 29  1998          209 non-null    float64\n",
      " 30  Footnotes.8   0 non-null      float64\n",
      " 31  Type.8        209 non-null    object \n",
      " 32  1999          209 non-null    float64\n",
      " 33  Footnotes.9   0 non-null      float64\n",
      " 34  Type.9        209 non-null    object \n",
      " 35  2000          656 non-null    float64\n",
      " 36  Footnotes.10  5 non-null      float64\n",
      " 37  Type.10       657 non-null    object \n",
      " 38  2001          211 non-null    float64\n",
      " 39  Footnotes.11  0 non-null      float64\n",
      " 40  Type.11       211 non-null    object \n",
      " 41  2002          212 non-null    float64\n",
      " 42  Footnotes.12  0 non-null      float64\n",
      " 43  Type.12       212 non-null    object \n",
      " 44  2003          212 non-null    float64\n",
      " 45  Footnotes.13  0 non-null      float64\n",
      " 46  Type.13       212 non-null    object \n",
      " 47  2004          212 non-null    float64\n",
      " 48  Footnotes.14  0 non-null      float64\n",
      " 49  Type.14       212 non-null    object \n",
      " 50  2005          436 non-null    float64\n",
      " 51  Footnotes.15  5 non-null      float64\n",
      " 52  Type.15       437 non-null    object \n",
      " 53  2006          214 non-null    float64\n",
      " 54  Footnotes.16  0 non-null      float64\n",
      " 55  Type.16       214 non-null    object \n",
      " 56  2007          215 non-null    float64\n",
      " 57  Footnotes.17  0 non-null      float64\n",
      " 58  Type.17       215 non-null    object \n",
      " 59  2008          215 non-null    float64\n",
      " 60  Footnotes.18  0 non-null      float64\n",
      " 61  Type.18       215 non-null    object \n",
      " 62  2009          215 non-null    float64\n",
      " 63  Footnotes.19  0 non-null      float64\n",
      " 64  Type.19       215 non-null    object \n",
      " 65  2010          438 non-null    float64\n",
      " 66  Footnotes.20  5 non-null      float64\n",
      " 67  Type.20       439 non-null    object \n",
      " 68  2011          215 non-null    float64\n",
      " 69  Footnotes.21  0 non-null      float64\n",
      " 70  Type.21       215 non-null    object \n",
      " 71  2012          0 non-null      float64\n",
      " 72  Footnotes.22  0 non-null      float64\n",
      " 73  Type.22       0 non-null      float64\n",
      " 74  2013          0 non-null      float64\n",
      " 75  Footnotes.23  0 non-null      float64\n",
      " 76  Type.23       0 non-null      float64\n",
      " 77  2014          223 non-null    float64\n",
      " 78  Footnotes.24  0 non-null      float64\n",
      " 79  Type.24       223 non-null    object \n",
      " 80  2015          0 non-null      float64\n",
      " 81  Footnotes.25  0 non-null      float64\n",
      " 82  Type.25       0 non-null      float64\n",
      " 83  2016          0 non-null      float64\n",
      " 84  Footnotes.26  0 non-null      float64\n",
      " 85  Type.26       0 non-null      float64\n",
      " 86  2017          0 non-null      float64\n",
      " 87  Footnotes.27  0 non-null      float64\n",
      " 88  Type.27       0 non-null      float64\n",
      " 89  2018          0 non-null      float64\n",
      " 90  Footnotes.28  0 non-null      float64\n",
      " 91  Type.28       0 non-null      float64\n",
      " 92  2019          0 non-null      float64\n",
      " 93  Footnotes.29  0 non-null      float64\n",
      " 94  Type.29       0 non-null      float64\n",
      "dtypes: float64(67), int64(2), object(26)\n",
      "memory usage: 512.2+ KB\n"
     ]
    }
   ],
   "source": [
    "mdg_raw_df.info()"
   ]
  },
  {
   "cell_type": "markdown",
   "metadata": {},
   "source": [
    "The dataframe consists of 690 rows and 95 columns. The column names are Country code, Country, Series code, MDG, and Series, it has years starting from 1990 all the way to 2019, Footnotes and 'type' that start from 1 to 29.\n",
    "\n",
    "Here is a summary of what the dataframe looks like. "
   ]
  },
  {
   "cell_type": "code",
   "execution_count": 4,
   "metadata": {},
   "outputs": [
    {
     "data": {
      "text/html": [
       "<div>\n",
       "<style scoped>\n",
       "    .dataframe tbody tr th:only-of-type {\n",
       "        vertical-align: middle;\n",
       "    }\n",
       "\n",
       "    .dataframe tbody tr th {\n",
       "        vertical-align: top;\n",
       "    }\n",
       "\n",
       "    .dataframe thead th {\n",
       "        text-align: right;\n",
       "    }\n",
       "</style>\n",
       "<table border=\"1\" class=\"dataframe\">\n",
       "  <thead>\n",
       "    <tr style=\"text-align: right;\">\n",
       "      <th></th>\n",
       "      <th>CountryCode</th>\n",
       "      <th>Country</th>\n",
       "      <th>SeriesCode</th>\n",
       "      <th>MDG</th>\n",
       "      <th>Series</th>\n",
       "      <th>1990</th>\n",
       "      <th>Footnotes</th>\n",
       "      <th>Type</th>\n",
       "      <th>1991</th>\n",
       "      <th>Footnotes.1</th>\n",
       "      <th>...</th>\n",
       "      <th>Type.26</th>\n",
       "      <th>2017</th>\n",
       "      <th>Footnotes.27</th>\n",
       "      <th>Type.27</th>\n",
       "      <th>2018</th>\n",
       "      <th>Footnotes.28</th>\n",
       "      <th>Type.28</th>\n",
       "      <th>2019</th>\n",
       "      <th>Footnotes.29</th>\n",
       "      <th>Type.29</th>\n",
       "    </tr>\n",
       "  </thead>\n",
       "  <tbody>\n",
       "    <tr>\n",
       "      <th>0</th>\n",
       "      <td>4</td>\n",
       "      <td>Afghanistan</td>\n",
       "      <td>567</td>\n",
       "      <td>Y</td>\n",
       "      <td>Proportion of land area covered by forest, per...</td>\n",
       "      <td>2.10</td>\n",
       "      <td>NaN</td>\n",
       "      <td>E</td>\n",
       "      <td>NaN</td>\n",
       "      <td>NaN</td>\n",
       "      <td>...</td>\n",
       "      <td>NaN</td>\n",
       "      <td>NaN</td>\n",
       "      <td>NaN</td>\n",
       "      <td>NaN</td>\n",
       "      <td>NaN</td>\n",
       "      <td>NaN</td>\n",
       "      <td>NaN</td>\n",
       "      <td>NaN</td>\n",
       "      <td>NaN</td>\n",
       "      <td>NaN</td>\n",
       "    </tr>\n",
       "    <tr>\n",
       "      <th>1</th>\n",
       "      <td>4</td>\n",
       "      <td>Afghanistan</td>\n",
       "      <td>749</td>\n",
       "      <td>Y</td>\n",
       "      <td>Carbon dioxide emissions (CO2), thousand metri...</td>\n",
       "      <td>2676.90</td>\n",
       "      <td>NaN</td>\n",
       "      <td>G</td>\n",
       "      <td>2493.6</td>\n",
       "      <td>NaN</td>\n",
       "      <td>...</td>\n",
       "      <td>NaN</td>\n",
       "      <td>NaN</td>\n",
       "      <td>NaN</td>\n",
       "      <td>NaN</td>\n",
       "      <td>NaN</td>\n",
       "      <td>NaN</td>\n",
       "      <td>NaN</td>\n",
       "      <td>NaN</td>\n",
       "      <td>NaN</td>\n",
       "      <td>NaN</td>\n",
       "    </tr>\n",
       "    <tr>\n",
       "      <th>2</th>\n",
       "      <td>4</td>\n",
       "      <td>Afghanistan</td>\n",
       "      <td>616</td>\n",
       "      <td>Y</td>\n",
       "      <td>Terrestrial and marine areas protected to tota...</td>\n",
       "      <td>0.36</td>\n",
       "      <td>NaN</td>\n",
       "      <td>C</td>\n",
       "      <td>NaN</td>\n",
       "      <td>NaN</td>\n",
       "      <td>...</td>\n",
       "      <td>NaN</td>\n",
       "      <td>NaN</td>\n",
       "      <td>NaN</td>\n",
       "      <td>NaN</td>\n",
       "      <td>NaN</td>\n",
       "      <td>NaN</td>\n",
       "      <td>NaN</td>\n",
       "      <td>NaN</td>\n",
       "      <td>NaN</td>\n",
       "      <td>NaN</td>\n",
       "    </tr>\n",
       "    <tr>\n",
       "      <th>3</th>\n",
       "      <td>8</td>\n",
       "      <td>Albania</td>\n",
       "      <td>567</td>\n",
       "      <td>Y</td>\n",
       "      <td>Proportion of land area covered by forest, per...</td>\n",
       "      <td>28.80</td>\n",
       "      <td>NaN</td>\n",
       "      <td>C</td>\n",
       "      <td>NaN</td>\n",
       "      <td>NaN</td>\n",
       "      <td>...</td>\n",
       "      <td>NaN</td>\n",
       "      <td>NaN</td>\n",
       "      <td>NaN</td>\n",
       "      <td>NaN</td>\n",
       "      <td>NaN</td>\n",
       "      <td>NaN</td>\n",
       "      <td>NaN</td>\n",
       "      <td>NaN</td>\n",
       "      <td>NaN</td>\n",
       "      <td>NaN</td>\n",
       "    </tr>\n",
       "    <tr>\n",
       "      <th>4</th>\n",
       "      <td>8</td>\n",
       "      <td>Albania</td>\n",
       "      <td>749</td>\n",
       "      <td>Y</td>\n",
       "      <td>Carbon dioxide emissions (CO2), thousand metri...</td>\n",
       "      <td>7488.00</td>\n",
       "      <td>NaN</td>\n",
       "      <td>G</td>\n",
       "      <td>3971.4</td>\n",
       "      <td>NaN</td>\n",
       "      <td>...</td>\n",
       "      <td>NaN</td>\n",
       "      <td>NaN</td>\n",
       "      <td>NaN</td>\n",
       "      <td>NaN</td>\n",
       "      <td>NaN</td>\n",
       "      <td>NaN</td>\n",
       "      <td>NaN</td>\n",
       "      <td>NaN</td>\n",
       "      <td>NaN</td>\n",
       "      <td>NaN</td>\n",
       "    </tr>\n",
       "  </tbody>\n",
       "</table>\n",
       "<p>5 rows × 95 columns</p>\n",
       "</div>"
      ],
      "text/plain": [
       "   CountryCode      Country  SeriesCode MDG  \\\n",
       "0            4  Afghanistan         567   Y   \n",
       "1            4  Afghanistan         749   Y   \n",
       "2            4  Afghanistan         616   Y   \n",
       "3            8      Albania         567   Y   \n",
       "4            8      Albania         749   Y   \n",
       "\n",
       "                                              Series     1990  Footnotes Type  \\\n",
       "0  Proportion of land area covered by forest, per...     2.10        NaN    E   \n",
       "1  Carbon dioxide emissions (CO2), thousand metri...  2676.90        NaN    G   \n",
       "2  Terrestrial and marine areas protected to tota...     0.36        NaN    C   \n",
       "3  Proportion of land area covered by forest, per...    28.80        NaN    C   \n",
       "4  Carbon dioxide emissions (CO2), thousand metri...  7488.00        NaN    G   \n",
       "\n",
       "     1991  Footnotes.1  ... Type.26  2017  Footnotes.27 Type.27  2018  \\\n",
       "0     NaN          NaN  ...     NaN   NaN           NaN     NaN   NaN   \n",
       "1  2493.6          NaN  ...     NaN   NaN           NaN     NaN   NaN   \n",
       "2     NaN          NaN  ...     NaN   NaN           NaN     NaN   NaN   \n",
       "3     NaN          NaN  ...     NaN   NaN           NaN     NaN   NaN   \n",
       "4  3971.4          NaN  ...     NaN   NaN           NaN     NaN   NaN   \n",
       "\n",
       "   Footnotes.28 Type.28  2019  Footnotes.29 Type.29  \n",
       "0           NaN     NaN   NaN           NaN     NaN  \n",
       "1           NaN     NaN   NaN           NaN     NaN  \n",
       "2           NaN     NaN   NaN           NaN     NaN  \n",
       "3           NaN     NaN   NaN           NaN     NaN  \n",
       "4           NaN     NaN   NaN           NaN     NaN  \n",
       "\n",
       "[5 rows x 95 columns]"
      ]
     },
     "execution_count": 4,
     "metadata": {},
     "output_type": "execute_result"
    }
   ],
   "source": [
    "mdg_raw_df.head()"
   ]
  },
  {
   "cell_type": "markdown",
   "metadata": {},
   "source": [
    "Based on the summary, each country has 3 rows that look at different factors according to series, these are:\n",
    "* Proportion of land area covered by forest, percentage (567)\n",
    "* Carbon dioxide emissions (CO2), thousand metric tons of CO2 (CDIAC) (749)\n",
    "* Terrestrial and marine areas protected to the total territorial area, percentage (616)\n",
    "\n",
    "Each factor has its own series code listed in parentheses. The measurements for all three factors are taken for all countries in the dataframe from 1990 to 2019, with a large number of nan values in the years from 2015 - 2019, including the years 2012 and 2013 as well as their associated footnotes and type."
   ]
  },
  {
   "cell_type": "markdown",
   "metadata": {},
   "source": [
    "Each series in the classification is a numerical measurement of a physical substance, represented as a percentage or a unit of mass. This implies that all values in the table for the series should be positive and numerical. It is now necessary to verify if there are any entries that fail to meet these requirements."
   ]
  },
  {
   "cell_type": "code",
   "execution_count": 5,
   "metadata": {},
   "outputs": [
    {
     "name": "stdout",
     "output_type": "stream",
     "text": [
      "Column: 1990, Value: -2999.6\n"
     ]
    }
   ],
   "source": [
    "def check_invalid_values(df):\n",
    "    float_type_columns = df.select_dtypes(include=float)\n",
    "    invalid_values_found = False\n",
    "\n",
    "    for column in float_type_columns.columns:\n",
    "        for value in df[column]:\n",
    "            if not isinstance(value, (int, float)) or value < 0:\n",
    "                print(f\"Column: {column}, Value: {value}\")\n",
    "                invalid_values_found = True\n",
    "    \n",
    "    if not invalid_values_found:\n",
    "        print(\"No invalid values found in columns.\")\n",
    "\n",
    "\n",
    "check_invalid_values(mdg_raw_df)\n"
   ]
  },
  {
   "cell_type": "markdown",
   "metadata": {},
   "source": [
    "The aforementioned code operates through a dataframe named 'float_type_columns' containing columns solely with float-type data. Subsequently, the code iterates through each column and inspects every value within it. Any non-float or negative value is identified and printed. Upon completing the iteration across all columns, only one negative value was detected in the '1990' column. The next step is to now change the value to a positive."
   ]
  },
  {
   "cell_type": "code",
   "execution_count": 6,
   "metadata": {},
   "outputs": [
    {
     "name": "stdout",
     "output_type": "stream",
     "text": [
      "No invalid values found in columns.\n"
     ]
    }
   ],
   "source": [
    "mdg_raw_df['1990'] = mdg_raw_df['1990'].apply(lambda x: abs(x) if isinstance(x, float) and x < 0 else x)\n",
    "\n",
    "check_invalid_values(mdg_raw_df)\n"
   ]
  },
  {
   "cell_type": "markdown",
   "metadata": {},
   "source": [
    "It appears that the only values that are present within the float-type columns are positive and numerical."
   ]
  },
  {
   "cell_type": "markdown",
   "metadata": {},
   "source": [
    "* ### Countries in the dataset and missing values.\n",
    "\n",
    "Now that there is a better understanding of the data in the dataset and it appears to be world data, does it consist of every country or a large number at the very least? Calculations will be done to determine the answer to this question. "
   ]
  },
  {
   "cell_type": "code",
   "execution_count": 7,
   "metadata": {},
   "outputs": [
    {
     "data": {
      "text/plain": [
       "230"
      ]
     },
     "execution_count": 7,
     "metadata": {},
     "output_type": "execute_result"
    }
   ],
   "source": [
    "countries_in_df = mdg_raw_df.groupby('Country') \n",
    "number_of_countries = countries_in_df.ngroups\n",
    "number_of_countries"
   ]
  },
  {
   "cell_type": "markdown",
   "metadata": {},
   "source": [
    "By grouping the data in the countries column and assigning it to a dataframe and returning the size, there appear to be 230 countries represented in The Millennium Development Goals project.\n",
    "\n",
    "Next is determining if there are any missing values in the country, series and columns representing the years as time goes by."
   ]
  },
  {
   "cell_type": "code",
   "execution_count": 8,
   "metadata": {},
   "outputs": [
    {
     "data": {
      "text/html": [
       "<div>\n",
       "<style scoped>\n",
       "    .dataframe tbody tr th:only-of-type {\n",
       "        vertical-align: middle;\n",
       "    }\n",
       "\n",
       "    .dataframe tbody tr th {\n",
       "        vertical-align: top;\n",
       "    }\n",
       "\n",
       "    .dataframe thead th {\n",
       "        text-align: right;\n",
       "    }\n",
       "</style>\n",
       "<table border=\"1\" class=\"dataframe\">\n",
       "  <thead>\n",
       "    <tr style=\"text-align: right;\">\n",
       "      <th></th>\n",
       "      <th>CountryCode</th>\n",
       "      <th>Country</th>\n",
       "      <th>SeriesCode</th>\n",
       "      <th>MDG</th>\n",
       "      <th>Series</th>\n",
       "      <th>1990</th>\n",
       "      <th>Footnotes</th>\n",
       "      <th>Type</th>\n",
       "      <th>1991</th>\n",
       "      <th>Footnotes.1</th>\n",
       "      <th>...</th>\n",
       "      <th>Type.26</th>\n",
       "      <th>2017</th>\n",
       "      <th>Footnotes.27</th>\n",
       "      <th>Type.27</th>\n",
       "      <th>2018</th>\n",
       "      <th>Footnotes.28</th>\n",
       "      <th>Type.28</th>\n",
       "      <th>2019</th>\n",
       "      <th>Footnotes.29</th>\n",
       "      <th>Type.29</th>\n",
       "    </tr>\n",
       "  </thead>\n",
       "  <tbody>\n",
       "    <tr>\n",
       "      <th>Afghanistan</th>\n",
       "      <td>0</td>\n",
       "      <td>0</td>\n",
       "      <td>0</td>\n",
       "      <td>0</td>\n",
       "      <td>0</td>\n",
       "      <td>0</td>\n",
       "      <td>3</td>\n",
       "      <td>0</td>\n",
       "      <td>2</td>\n",
       "      <td>3</td>\n",
       "      <td>...</td>\n",
       "      <td>3</td>\n",
       "      <td>3</td>\n",
       "      <td>3</td>\n",
       "      <td>3</td>\n",
       "      <td>3</td>\n",
       "      <td>3</td>\n",
       "      <td>3</td>\n",
       "      <td>3</td>\n",
       "      <td>3</td>\n",
       "      <td>3</td>\n",
       "    </tr>\n",
       "    <tr>\n",
       "      <th>Albania</th>\n",
       "      <td>0</td>\n",
       "      <td>0</td>\n",
       "      <td>0</td>\n",
       "      <td>0</td>\n",
       "      <td>0</td>\n",
       "      <td>0</td>\n",
       "      <td>3</td>\n",
       "      <td>0</td>\n",
       "      <td>2</td>\n",
       "      <td>3</td>\n",
       "      <td>...</td>\n",
       "      <td>3</td>\n",
       "      <td>3</td>\n",
       "      <td>3</td>\n",
       "      <td>3</td>\n",
       "      <td>3</td>\n",
       "      <td>3</td>\n",
       "      <td>3</td>\n",
       "      <td>3</td>\n",
       "      <td>3</td>\n",
       "      <td>3</td>\n",
       "    </tr>\n",
       "    <tr>\n",
       "      <th>Algeria</th>\n",
       "      <td>0</td>\n",
       "      <td>0</td>\n",
       "      <td>0</td>\n",
       "      <td>0</td>\n",
       "      <td>0</td>\n",
       "      <td>0</td>\n",
       "      <td>3</td>\n",
       "      <td>0</td>\n",
       "      <td>2</td>\n",
       "      <td>3</td>\n",
       "      <td>...</td>\n",
       "      <td>3</td>\n",
       "      <td>3</td>\n",
       "      <td>3</td>\n",
       "      <td>3</td>\n",
       "      <td>3</td>\n",
       "      <td>3</td>\n",
       "      <td>3</td>\n",
       "      <td>3</td>\n",
       "      <td>3</td>\n",
       "      <td>3</td>\n",
       "    </tr>\n",
       "    <tr>\n",
       "      <th>American Samoa</th>\n",
       "      <td>0</td>\n",
       "      <td>0</td>\n",
       "      <td>0</td>\n",
       "      <td>0</td>\n",
       "      <td>0</td>\n",
       "      <td>1</td>\n",
       "      <td>3</td>\n",
       "      <td>1</td>\n",
       "      <td>3</td>\n",
       "      <td>3</td>\n",
       "      <td>...</td>\n",
       "      <td>3</td>\n",
       "      <td>3</td>\n",
       "      <td>3</td>\n",
       "      <td>3</td>\n",
       "      <td>3</td>\n",
       "      <td>3</td>\n",
       "      <td>3</td>\n",
       "      <td>3</td>\n",
       "      <td>3</td>\n",
       "      <td>3</td>\n",
       "    </tr>\n",
       "    <tr>\n",
       "      <th>Andorra</th>\n",
       "      <td>0</td>\n",
       "      <td>0</td>\n",
       "      <td>0</td>\n",
       "      <td>0</td>\n",
       "      <td>0</td>\n",
       "      <td>1</td>\n",
       "      <td>3</td>\n",
       "      <td>1</td>\n",
       "      <td>3</td>\n",
       "      <td>3</td>\n",
       "      <td>...</td>\n",
       "      <td>3</td>\n",
       "      <td>3</td>\n",
       "      <td>3</td>\n",
       "      <td>3</td>\n",
       "      <td>3</td>\n",
       "      <td>3</td>\n",
       "      <td>3</td>\n",
       "      <td>3</td>\n",
       "      <td>3</td>\n",
       "      <td>3</td>\n",
       "    </tr>\n",
       "  </tbody>\n",
       "</table>\n",
       "<p>5 rows × 95 columns</p>\n",
       "</div>"
      ],
      "text/plain": [
       "               CountryCode Country SeriesCode MDG Series 1990 Footnotes Type  \\\n",
       "Afghanistan              0       0          0   0      0    0         3    0   \n",
       "Albania                  0       0          0   0      0    0         3    0   \n",
       "Algeria                  0       0          0   0      0    0         3    0   \n",
       "American Samoa           0       0          0   0      0    1         3    1   \n",
       "Andorra                  0       0          0   0      0    1         3    1   \n",
       "\n",
       "               1991 Footnotes.1  ... Type.26 2017 Footnotes.27 Type.27 2018  \\\n",
       "Afghanistan       2           3  ...       3    3            3       3    3   \n",
       "Albania           2           3  ...       3    3            3       3    3   \n",
       "Algeria           2           3  ...       3    3            3       3    3   \n",
       "American Samoa    3           3  ...       3    3            3       3    3   \n",
       "Andorra           3           3  ...       3    3            3       3    3   \n",
       "\n",
       "               Footnotes.28 Type.28 2019 Footnotes.29 Type.29  \n",
       "Afghanistan               3       3    3            3       3  \n",
       "Albania                   3       3    3            3       3  \n",
       "Algeria                   3       3    3            3       3  \n",
       "American Samoa            3       3    3            3       3  \n",
       "Andorra                   3       3    3            3       3  \n",
       "\n",
       "[5 rows x 95 columns]"
      ]
     },
     "execution_count": 8,
     "metadata": {},
     "output_type": "execute_result"
    }
   ],
   "source": [
    "unique_countries = mdg_raw_df['Country'].unique()\n",
    "\n",
    "missing_values_by_country_df = pd.DataFrame(index=unique_countries, columns=mdg_raw_df.columns)\n",
    "\n",
    "for country in unique_countries:\n",
    "    country_data = mdg_raw_df[mdg_raw_df['Country'] == country]\n",
    "    null_values = country_data.isnull().sum()\n",
    "    \n",
    "    missing_values_by_country_df.loc[country] = null_values\n",
    "\n",
    "missing_values_by_country_df.head()\n"
   ]
  },
  {
   "cell_type": "markdown",
   "metadata": {},
   "source": [
    "The dataframe above represents the number of nan values per column for each country. The following dataframe is a summary of the above showing all the missing values for each country. "
   ]
  },
  {
   "cell_type": "code",
   "execution_count": 9,
   "metadata": {},
   "outputs": [
    {
     "data": {
      "text/html": [
       "<div>\n",
       "<style scoped>\n",
       "    .dataframe tbody tr th:only-of-type {\n",
       "        vertical-align: middle;\n",
       "    }\n",
       "\n",
       "    .dataframe tbody tr th {\n",
       "        vertical-align: top;\n",
       "    }\n",
       "\n",
       "    .dataframe thead th {\n",
       "        text-align: right;\n",
       "    }\n",
       "</style>\n",
       "<table border=\"1\" class=\"dataframe\">\n",
       "  <thead>\n",
       "    <tr style=\"text-align: right;\">\n",
       "      <th></th>\n",
       "      <th>Country</th>\n",
       "      <th>missing_values_count</th>\n",
       "    </tr>\n",
       "  </thead>\n",
       "  <tbody>\n",
       "    <tr>\n",
       "      <th>0</th>\n",
       "      <td>Afghanistan</td>\n",
       "      <td>212</td>\n",
       "    </tr>\n",
       "    <tr>\n",
       "      <th>1</th>\n",
       "      <td>Albania</td>\n",
       "      <td>212</td>\n",
       "    </tr>\n",
       "    <tr>\n",
       "      <th>2</th>\n",
       "      <td>Algeria</td>\n",
       "      <td>212</td>\n",
       "    </tr>\n",
       "    <tr>\n",
       "      <th>3</th>\n",
       "      <td>American Samoa</td>\n",
       "      <td>256</td>\n",
       "    </tr>\n",
       "    <tr>\n",
       "      <th>4</th>\n",
       "      <td>Andorra</td>\n",
       "      <td>222</td>\n",
       "    </tr>\n",
       "  </tbody>\n",
       "</table>\n",
       "</div>"
      ],
      "text/plain": [
       "          Country  missing_values_count\n",
       "0     Afghanistan                   212\n",
       "1         Albania                   212\n",
       "2         Algeria                   212\n",
       "3  American Samoa                   256\n",
       "4         Andorra                   222"
      ]
     },
     "execution_count": 9,
     "metadata": {},
     "output_type": "execute_result"
    }
   ],
   "source": [
    "pd.set_option('display.max_colwidth', None)\n",
    "\n",
    "unique_countries = mdg_raw_df['Country'].unique()\n",
    "\n",
    "missing_values_data = []\n",
    "\n",
    "for country in unique_countries:\n",
    "    country_data = mdg_raw_df[mdg_raw_df['Country'] == country]\n",
    "    total_null_values = country_data.isnull().sum().sum()\n",
    "    \n",
    "    missing_values_data.append({'Country': country, 'missing_values_count': total_null_values})\n",
    "\n",
    "missing_values_by_country_df = pd.DataFrame(missing_values_data)\n",
    "missing_values_by_country_df.head()\n"
   ]
  },
  {
   "cell_type": "markdown",
   "metadata": {},
   "source": [
    "The next grouping of the data is by the year."
   ]
  },
  {
   "cell_type": "code",
   "execution_count": 10,
   "metadata": {},
   "outputs": [
    {
     "data": {
      "text/html": [
       "<div>\n",
       "<style scoped>\n",
       "    .dataframe tbody tr th:only-of-type {\n",
       "        vertical-align: middle;\n",
       "    }\n",
       "\n",
       "    .dataframe tbody tr th {\n",
       "        vertical-align: top;\n",
       "    }\n",
       "\n",
       "    .dataframe thead th {\n",
       "        text-align: right;\n",
       "    }\n",
       "</style>\n",
       "<table border=\"1\" class=\"dataframe\">\n",
       "  <thead>\n",
       "    <tr style=\"text-align: right;\">\n",
       "      <th></th>\n",
       "      <th>Year</th>\n",
       "      <th>missing_values_by_count</th>\n",
       "    </tr>\n",
       "  </thead>\n",
       "  <tbody>\n",
       "    <tr>\n",
       "      <th>0</th>\n",
       "      <td>1990</td>\n",
       "      <td>63</td>\n",
       "    </tr>\n",
       "    <tr>\n",
       "      <th>1</th>\n",
       "      <td>1991</td>\n",
       "      <td>508</td>\n",
       "    </tr>\n",
       "    <tr>\n",
       "      <th>2</th>\n",
       "      <td>1992</td>\n",
       "      <td>486</td>\n",
       "    </tr>\n",
       "    <tr>\n",
       "      <th>3</th>\n",
       "      <td>1993</td>\n",
       "      <td>486</td>\n",
       "    </tr>\n",
       "    <tr>\n",
       "      <th>4</th>\n",
       "      <td>1994</td>\n",
       "      <td>485</td>\n",
       "    </tr>\n",
       "    <tr>\n",
       "      <th>5</th>\n",
       "      <td>1995</td>\n",
       "      <td>483</td>\n",
       "    </tr>\n",
       "    <tr>\n",
       "      <th>6</th>\n",
       "      <td>1996</td>\n",
       "      <td>484</td>\n",
       "    </tr>\n",
       "    <tr>\n",
       "      <th>7</th>\n",
       "      <td>1997</td>\n",
       "      <td>481</td>\n",
       "    </tr>\n",
       "    <tr>\n",
       "      <th>8</th>\n",
       "      <td>1998</td>\n",
       "      <td>481</td>\n",
       "    </tr>\n",
       "    <tr>\n",
       "      <th>9</th>\n",
       "      <td>1999</td>\n",
       "      <td>481</td>\n",
       "    </tr>\n",
       "    <tr>\n",
       "      <th>10</th>\n",
       "      <td>2000</td>\n",
       "      <td>34</td>\n",
       "    </tr>\n",
       "    <tr>\n",
       "      <th>11</th>\n",
       "      <td>2001</td>\n",
       "      <td>479</td>\n",
       "    </tr>\n",
       "    <tr>\n",
       "      <th>12</th>\n",
       "      <td>2002</td>\n",
       "      <td>478</td>\n",
       "    </tr>\n",
       "    <tr>\n",
       "      <th>13</th>\n",
       "      <td>2003</td>\n",
       "      <td>478</td>\n",
       "    </tr>\n",
       "    <tr>\n",
       "      <th>14</th>\n",
       "      <td>2004</td>\n",
       "      <td>478</td>\n",
       "    </tr>\n",
       "    <tr>\n",
       "      <th>15</th>\n",
       "      <td>2005</td>\n",
       "      <td>254</td>\n",
       "    </tr>\n",
       "    <tr>\n",
       "      <th>16</th>\n",
       "      <td>2006</td>\n",
       "      <td>476</td>\n",
       "    </tr>\n",
       "    <tr>\n",
       "      <th>17</th>\n",
       "      <td>2007</td>\n",
       "      <td>475</td>\n",
       "    </tr>\n",
       "    <tr>\n",
       "      <th>18</th>\n",
       "      <td>2008</td>\n",
       "      <td>475</td>\n",
       "    </tr>\n",
       "    <tr>\n",
       "      <th>19</th>\n",
       "      <td>2009</td>\n",
       "      <td>475</td>\n",
       "    </tr>\n",
       "    <tr>\n",
       "      <th>20</th>\n",
       "      <td>2010</td>\n",
       "      <td>252</td>\n",
       "    </tr>\n",
       "    <tr>\n",
       "      <th>21</th>\n",
       "      <td>2011</td>\n",
       "      <td>475</td>\n",
       "    </tr>\n",
       "    <tr>\n",
       "      <th>22</th>\n",
       "      <td>2012</td>\n",
       "      <td>690</td>\n",
       "    </tr>\n",
       "    <tr>\n",
       "      <th>23</th>\n",
       "      <td>2013</td>\n",
       "      <td>690</td>\n",
       "    </tr>\n",
       "    <tr>\n",
       "      <th>24</th>\n",
       "      <td>2014</td>\n",
       "      <td>467</td>\n",
       "    </tr>\n",
       "    <tr>\n",
       "      <th>25</th>\n",
       "      <td>2015</td>\n",
       "      <td>690</td>\n",
       "    </tr>\n",
       "    <tr>\n",
       "      <th>26</th>\n",
       "      <td>2016</td>\n",
       "      <td>690</td>\n",
       "    </tr>\n",
       "    <tr>\n",
       "      <th>27</th>\n",
       "      <td>2017</td>\n",
       "      <td>690</td>\n",
       "    </tr>\n",
       "    <tr>\n",
       "      <th>28</th>\n",
       "      <td>2018</td>\n",
       "      <td>690</td>\n",
       "    </tr>\n",
       "    <tr>\n",
       "      <th>29</th>\n",
       "      <td>2019</td>\n",
       "      <td>690</td>\n",
       "    </tr>\n",
       "  </tbody>\n",
       "</table>\n",
       "</div>"
      ],
      "text/plain": [
       "    Year  missing_values_by_count\n",
       "0   1990                       63\n",
       "1   1991                      508\n",
       "2   1992                      486\n",
       "3   1993                      486\n",
       "4   1994                      485\n",
       "5   1995                      483\n",
       "6   1996                      484\n",
       "7   1997                      481\n",
       "8   1998                      481\n",
       "9   1999                      481\n",
       "10  2000                       34\n",
       "11  2001                      479\n",
       "12  2002                      478\n",
       "13  2003                      478\n",
       "14  2004                      478\n",
       "15  2005                      254\n",
       "16  2006                      476\n",
       "17  2007                      475\n",
       "18  2008                      475\n",
       "19  2009                      475\n",
       "20  2010                      252\n",
       "21  2011                      475\n",
       "22  2012                      690\n",
       "23  2013                      690\n",
       "24  2014                      467\n",
       "25  2015                      690\n",
       "26  2016                      690\n",
       "27  2017                      690\n",
       "28  2018                      690\n",
       "29  2019                      690"
      ]
     },
     "execution_count": 10,
     "metadata": {},
     "output_type": "execute_result"
    }
   ],
   "source": [
    "years_columns = [col for col in mdg_raw_df.columns if col.isdigit()]\n",
    "mdg_missing_values = mdg_raw_df[years_columns]\n",
    "\n",
    "missing_values_by_year_df = pd.DataFrame(columns=['Year', 'missing_values_by_count'])\n",
    "\n",
    "for year in years_columns:\n",
    "    total_null_values = mdg_missing_values[year].isnull().sum()\n",
    "    missing_values_by_year_df.loc[len(missing_values_by_year_df)] = [year, total_null_values]\n",
    "\n",
    "missing_values_by_year_df\n",
    "\n"
   ]
  },
  {
   "cell_type": "markdown",
   "metadata": {},
   "source": [
    "Each country consists of 3 series column:\n",
    "* Proportion of land area covered by forest, percentage (567)\n",
    "* Carbon dioxide emissions (CO2), thousand metric tons of CO2 (CDIAC) (749)\n",
    "* Terrestrial and marine areas protected to the total territorial area, percentage (616)\n",
    "\n",
    "Next is finding out the number of missing values per column categorised by these 3 series values\n"
   ]
  },
  {
   "cell_type": "code",
   "execution_count": 11,
   "metadata": {},
   "outputs": [
    {
     "data": {
      "text/html": [
       "<div>\n",
       "<style scoped>\n",
       "    .dataframe tbody tr th:only-of-type {\n",
       "        vertical-align: middle;\n",
       "    }\n",
       "\n",
       "    .dataframe tbody tr th {\n",
       "        vertical-align: top;\n",
       "    }\n",
       "\n",
       "    .dataframe thead th {\n",
       "        text-align: right;\n",
       "    }\n",
       "</style>\n",
       "<table border=\"1\" class=\"dataframe\">\n",
       "  <thead>\n",
       "    <tr style=\"text-align: right;\">\n",
       "      <th></th>\n",
       "      <th>CountryCode</th>\n",
       "      <th>Country</th>\n",
       "      <th>SeriesCode</th>\n",
       "      <th>MDG</th>\n",
       "      <th>1990</th>\n",
       "      <th>Footnotes</th>\n",
       "      <th>Type</th>\n",
       "      <th>1991</th>\n",
       "      <th>Footnotes.1</th>\n",
       "      <th>Type.1</th>\n",
       "      <th>...</th>\n",
       "      <th>Type.26</th>\n",
       "      <th>2017</th>\n",
       "      <th>Footnotes.27</th>\n",
       "      <th>Type.27</th>\n",
       "      <th>2018</th>\n",
       "      <th>Footnotes.28</th>\n",
       "      <th>Type.28</th>\n",
       "      <th>2019</th>\n",
       "      <th>Footnotes.29</th>\n",
       "      <th>Type.29</th>\n",
       "    </tr>\n",
       "  </thead>\n",
       "  <tbody>\n",
       "    <tr>\n",
       "      <th>Proportion of land area covered by forest, percentage</th>\n",
       "      <td>0</td>\n",
       "      <td>0</td>\n",
       "      <td>0</td>\n",
       "      <td>0</td>\n",
       "      <td>7</td>\n",
       "      <td>225</td>\n",
       "      <td>6</td>\n",
       "      <td>230</td>\n",
       "      <td>230</td>\n",
       "      <td>230</td>\n",
       "      <td>...</td>\n",
       "      <td>230</td>\n",
       "      <td>230</td>\n",
       "      <td>230</td>\n",
       "      <td>230</td>\n",
       "      <td>230</td>\n",
       "      <td>230</td>\n",
       "      <td>230</td>\n",
       "      <td>230</td>\n",
       "      <td>230</td>\n",
       "      <td>230</td>\n",
       "    </tr>\n",
       "    <tr>\n",
       "      <th>Carbon dioxide emissions (CO2), thousand metric tons of CO2 (CDIAC)</th>\n",
       "      <td>0</td>\n",
       "      <td>0</td>\n",
       "      <td>0</td>\n",
       "      <td>0</td>\n",
       "      <td>49</td>\n",
       "      <td>230</td>\n",
       "      <td>49</td>\n",
       "      <td>48</td>\n",
       "      <td>230</td>\n",
       "      <td>48</td>\n",
       "      <td>...</td>\n",
       "      <td>230</td>\n",
       "      <td>230</td>\n",
       "      <td>230</td>\n",
       "      <td>230</td>\n",
       "      <td>230</td>\n",
       "      <td>230</td>\n",
       "      <td>230</td>\n",
       "      <td>230</td>\n",
       "      <td>230</td>\n",
       "      <td>230</td>\n",
       "    </tr>\n",
       "    <tr>\n",
       "      <th>Terrestrial and marine areas protected to total territorial area, percentage</th>\n",
       "      <td>0</td>\n",
       "      <td>0</td>\n",
       "      <td>0</td>\n",
       "      <td>0</td>\n",
       "      <td>7</td>\n",
       "      <td>230</td>\n",
       "      <td>7</td>\n",
       "      <td>230</td>\n",
       "      <td>230</td>\n",
       "      <td>230</td>\n",
       "      <td>...</td>\n",
       "      <td>230</td>\n",
       "      <td>230</td>\n",
       "      <td>230</td>\n",
       "      <td>230</td>\n",
       "      <td>230</td>\n",
       "      <td>230</td>\n",
       "      <td>230</td>\n",
       "      <td>230</td>\n",
       "      <td>230</td>\n",
       "      <td>230</td>\n",
       "    </tr>\n",
       "  </tbody>\n",
       "</table>\n",
       "<p>3 rows × 94 columns</p>\n",
       "</div>"
      ],
      "text/plain": [
       "                                                                             CountryCode  \\\n",
       "Proportion of land area covered by forest, percentage                                  0   \n",
       "Carbon dioxide emissions (CO2), thousand metric tons of CO2 (CDIAC)                    0   \n",
       "Terrestrial and marine areas protected to total territorial area, percentage           0   \n",
       "\n",
       "                                                                             Country  \\\n",
       "Proportion of land area covered by forest, percentage                              0   \n",
       "Carbon dioxide emissions (CO2), thousand metric tons of CO2 (CDIAC)                0   \n",
       "Terrestrial and marine areas protected to total territorial area, percentage       0   \n",
       "\n",
       "                                                                             SeriesCode  \\\n",
       "Proportion of land area covered by forest, percentage                                 0   \n",
       "Carbon dioxide emissions (CO2), thousand metric tons of CO2 (CDIAC)                   0   \n",
       "Terrestrial and marine areas protected to total territorial area, percentage          0   \n",
       "\n",
       "                                                                             MDG  \\\n",
       "Proportion of land area covered by forest, percentage                          0   \n",
       "Carbon dioxide emissions (CO2), thousand metric tons of CO2 (CDIAC)            0   \n",
       "Terrestrial and marine areas protected to total territorial area, percentage   0   \n",
       "\n",
       "                                                                             1990  \\\n",
       "Proportion of land area covered by forest, percentage                           7   \n",
       "Carbon dioxide emissions (CO2), thousand metric tons of CO2 (CDIAC)            49   \n",
       "Terrestrial and marine areas protected to total territorial area, percentage    7   \n",
       "\n",
       "                                                                             Footnotes  \\\n",
       "Proportion of land area covered by forest, percentage                              225   \n",
       "Carbon dioxide emissions (CO2), thousand metric tons of CO2 (CDIAC)                230   \n",
       "Terrestrial and marine areas protected to total territorial area, percentage       230   \n",
       "\n",
       "                                                                             Type  \\\n",
       "Proportion of land area covered by forest, percentage                           6   \n",
       "Carbon dioxide emissions (CO2), thousand metric tons of CO2 (CDIAC)            49   \n",
       "Terrestrial and marine areas protected to total territorial area, percentage    7   \n",
       "\n",
       "                                                                             1991  \\\n",
       "Proportion of land area covered by forest, percentage                         230   \n",
       "Carbon dioxide emissions (CO2), thousand metric tons of CO2 (CDIAC)            48   \n",
       "Terrestrial and marine areas protected to total territorial area, percentage  230   \n",
       "\n",
       "                                                                             Footnotes.1  \\\n",
       "Proportion of land area covered by forest, percentage                                230   \n",
       "Carbon dioxide emissions (CO2), thousand metric tons of CO2 (CDIAC)                  230   \n",
       "Terrestrial and marine areas protected to total territorial area, percentage         230   \n",
       "\n",
       "                                                                             Type.1  \\\n",
       "Proportion of land area covered by forest, percentage                           230   \n",
       "Carbon dioxide emissions (CO2), thousand metric tons of CO2 (CDIAC)              48   \n",
       "Terrestrial and marine areas protected to total territorial area, percentage    230   \n",
       "\n",
       "                                                                              ...  \\\n",
       "Proportion of land area covered by forest, percentage                         ...   \n",
       "Carbon dioxide emissions (CO2), thousand metric tons of CO2 (CDIAC)           ...   \n",
       "Terrestrial and marine areas protected to total territorial area, percentage  ...   \n",
       "\n",
       "                                                                             Type.26  \\\n",
       "Proportion of land area covered by forest, percentage                            230   \n",
       "Carbon dioxide emissions (CO2), thousand metric tons of CO2 (CDIAC)              230   \n",
       "Terrestrial and marine areas protected to total territorial area, percentage     230   \n",
       "\n",
       "                                                                             2017  \\\n",
       "Proportion of land area covered by forest, percentage                         230   \n",
       "Carbon dioxide emissions (CO2), thousand metric tons of CO2 (CDIAC)           230   \n",
       "Terrestrial and marine areas protected to total territorial area, percentage  230   \n",
       "\n",
       "                                                                             Footnotes.27  \\\n",
       "Proportion of land area covered by forest, percentage                                 230   \n",
       "Carbon dioxide emissions (CO2), thousand metric tons of CO2 (CDIAC)                   230   \n",
       "Terrestrial and marine areas protected to total territorial area, percentage          230   \n",
       "\n",
       "                                                                             Type.27  \\\n",
       "Proportion of land area covered by forest, percentage                            230   \n",
       "Carbon dioxide emissions (CO2), thousand metric tons of CO2 (CDIAC)              230   \n",
       "Terrestrial and marine areas protected to total territorial area, percentage     230   \n",
       "\n",
       "                                                                             2018  \\\n",
       "Proportion of land area covered by forest, percentage                         230   \n",
       "Carbon dioxide emissions (CO2), thousand metric tons of CO2 (CDIAC)           230   \n",
       "Terrestrial and marine areas protected to total territorial area, percentage  230   \n",
       "\n",
       "                                                                             Footnotes.28  \\\n",
       "Proportion of land area covered by forest, percentage                                 230   \n",
       "Carbon dioxide emissions (CO2), thousand metric tons of CO2 (CDIAC)                   230   \n",
       "Terrestrial and marine areas protected to total territorial area, percentage          230   \n",
       "\n",
       "                                                                             Type.28  \\\n",
       "Proportion of land area covered by forest, percentage                            230   \n",
       "Carbon dioxide emissions (CO2), thousand metric tons of CO2 (CDIAC)              230   \n",
       "Terrestrial and marine areas protected to total territorial area, percentage     230   \n",
       "\n",
       "                                                                             2019  \\\n",
       "Proportion of land area covered by forest, percentage                         230   \n",
       "Carbon dioxide emissions (CO2), thousand metric tons of CO2 (CDIAC)           230   \n",
       "Terrestrial and marine areas protected to total territorial area, percentage  230   \n",
       "\n",
       "                                                                             Footnotes.29  \\\n",
       "Proportion of land area covered by forest, percentage                                 230   \n",
       "Carbon dioxide emissions (CO2), thousand metric tons of CO2 (CDIAC)                   230   \n",
       "Terrestrial and marine areas protected to total territorial area, percentage          230   \n",
       "\n",
       "                                                                             Type.29  \n",
       "Proportion of land area covered by forest, percentage                            230  \n",
       "Carbon dioxide emissions (CO2), thousand metric tons of CO2 (CDIAC)              230  \n",
       "Terrestrial and marine areas protected to total territorial area, percentage     230  \n",
       "\n",
       "[3 rows x 94 columns]"
      ]
     },
     "execution_count": 11,
     "metadata": {},
     "output_type": "execute_result"
    }
   ],
   "source": [
    "series_category = [\"Proportion of land area covered by forest, percentage\",\n",
    "                   \"Carbon dioxide emissions (CO2), thousand metric tons of CO2 (CDIAC)\",\n",
    "                   \"Terrestrial and marine areas protected to total territorial area, percentage\"]\n",
    "\n",
    "selected_columns = [col for col in mdg_raw_df.columns if col != 'Series']\n",
    "missing_values_by_series_df = pd.DataFrame(index=series_category, columns=selected_columns)\n",
    "\n",
    "for category in series_category:\n",
    "    category_data = mdg_raw_df[mdg_raw_df['Series'] == category]\n",
    "    null_values = category_data[selected_columns].isnull().sum()\n",
    "    \n",
    "    missing_values_by_series_df.loc[category] = null_values\n",
    "\n",
    "missing_values_by_series_df\n",
    "\n"
   ]
  },
  {
   "cell_type": "markdown",
   "metadata": {},
   "source": [
    "The dataframe below is a summary that displays the total number of missing values for each series category."
   ]
  },
  {
   "cell_type": "code",
   "execution_count": 12,
   "metadata": {},
   "outputs": [
    {
     "data": {
      "text/html": [
       "<div>\n",
       "<style scoped>\n",
       "    .dataframe tbody tr th:only-of-type {\n",
       "        vertical-align: middle;\n",
       "    }\n",
       "\n",
       "    .dataframe tbody tr th {\n",
       "        vertical-align: top;\n",
       "    }\n",
       "\n",
       "    .dataframe thead th {\n",
       "        text-align: right;\n",
       "    }\n",
       "</style>\n",
       "<table border=\"1\" class=\"dataframe\">\n",
       "  <thead>\n",
       "    <tr style=\"text-align: right;\">\n",
       "      <th></th>\n",
       "      <th>Series</th>\n",
       "      <th>missing_values_count</th>\n",
       "    </tr>\n",
       "  </thead>\n",
       "  <tbody>\n",
       "    <tr>\n",
       "      <th>0</th>\n",
       "      <td>Proportion of land area covered by forest, percentage</td>\n",
       "      <td>18892</td>\n",
       "    </tr>\n",
       "    <tr>\n",
       "      <th>1</th>\n",
       "      <td>Carbon dioxide emissions (CO2), thousand metric tons of CO2 (CDIAC)</td>\n",
       "      <td>11550</td>\n",
       "    </tr>\n",
       "    <tr>\n",
       "      <th>2</th>\n",
       "      <td>Terrestrial and marine areas protected to total territorial area, percentage</td>\n",
       "      <td>19362</td>\n",
       "    </tr>\n",
       "  </tbody>\n",
       "</table>\n",
       "</div>"
      ],
      "text/plain": [
       "                                                                         Series  \\\n",
       "0                         Proportion of land area covered by forest, percentage   \n",
       "1           Carbon dioxide emissions (CO2), thousand metric tons of CO2 (CDIAC)   \n",
       "2  Terrestrial and marine areas protected to total territorial area, percentage   \n",
       "\n",
       "  missing_values_count  \n",
       "0                18892  \n",
       "1                11550  \n",
       "2                19362  "
      ]
     },
     "execution_count": 12,
     "metadata": {},
     "output_type": "execute_result"
    }
   ],
   "source": [
    "pd.set_option('display.max_colwidth', None)\n",
    "\n",
    "series_category = [\n",
    "    \"Proportion of land area covered by forest, percentage\",\n",
    "    \"Carbon dioxide emissions (CO2), thousand metric tons of CO2 (CDIAC)\",\n",
    "    \"Terrestrial and marine areas protected to total territorial area, percentage\"\n",
    "]\n",
    "\n",
    "selected_columns = [col for col in mdg_raw_df.columns if col != 'Series']\n",
    "missing_values_by_series_df = pd.DataFrame(columns=['Series', 'missing_values_count'])\n",
    "\n",
    "for category in series_category:\n",
    "    category_data = mdg_raw_df[mdg_raw_df['Series'] == category]\n",
    "    total_null_values = category_data[selected_columns].isnull().sum().sum()\n",
    "    \n",
    "    missing_values_by_series_df = pd.concat([missing_values_by_series_df, pd.DataFrame({'Series': [category], 'missing_values_count': [total_null_values]})], ignore_index=True)\n",
    "\n",
    "missing_values_by_series_df"
   ]
  },
  {
   "cell_type": "markdown",
   "metadata": {},
   "source": [
    "___"
   ]
  },
  {
   "cell_type": "markdown",
   "metadata": {},
   "source": [
    "+ ## Identifying any issues within the data.\n",
    " \n",
    "Before data analysis can be performed on the data it will need to be cleaned first, this is done by imputation to remove missing values within the dataframe as well as through removing some columns which will have no impact on the analysis carried out in this report.\n",
    "\n",
    "The first step is taking a look at the dataframe"
   ]
  },
  {
   "cell_type": "code",
   "execution_count": 13,
   "metadata": {},
   "outputs": [
    {
     "name": "stdout",
     "output_type": "stream",
     "text": [
      "<class 'pandas.core.frame.DataFrame'>\n",
      "RangeIndex: 690 entries, 0 to 689\n",
      "Data columns (total 95 columns):\n",
      " #   Column        Non-Null Count  Dtype  \n",
      "---  ------        --------------  -----  \n",
      " 0   CountryCode   690 non-null    int64  \n",
      " 1   Country       690 non-null    object \n",
      " 2   SeriesCode    690 non-null    int64  \n",
      " 3   MDG           690 non-null    object \n",
      " 4   Series        690 non-null    object \n",
      " 5   1990          627 non-null    float64\n",
      " 6   Footnotes     5 non-null      float64\n",
      " 7   Type          628 non-null    object \n",
      " 8   1991          182 non-null    float64\n",
      " 9   Footnotes.1   0 non-null      float64\n",
      " 10  Type.1        182 non-null    object \n",
      " 11  1992          204 non-null    float64\n",
      " 12  Footnotes.2   0 non-null      float64\n",
      " 13  Type.2        204 non-null    object \n",
      " 14  1993          204 non-null    float64\n",
      " 15  Footnotes.3   0 non-null      float64\n",
      " 16  Type.3        204 non-null    object \n",
      " 17  1994          205 non-null    float64\n",
      " 18  Footnotes.4   0 non-null      float64\n",
      " 19  Type.4        205 non-null    object \n",
      " 20  1995          207 non-null    float64\n",
      " 21  Footnotes.5   0 non-null      float64\n",
      " 22  Type.5        207 non-null    object \n",
      " 23  1996          206 non-null    float64\n",
      " 24  Footnotes.6   0 non-null      float64\n",
      " 25  Type.6        206 non-null    object \n",
      " 26  1997          209 non-null    float64\n",
      " 27  Footnotes.7   0 non-null      float64\n",
      " 28  Type.7        209 non-null    object \n",
      " 29  1998          209 non-null    float64\n",
      " 30  Footnotes.8   0 non-null      float64\n",
      " 31  Type.8        209 non-null    object \n",
      " 32  1999          209 non-null    float64\n",
      " 33  Footnotes.9   0 non-null      float64\n",
      " 34  Type.9        209 non-null    object \n",
      " 35  2000          656 non-null    float64\n",
      " 36  Footnotes.10  5 non-null      float64\n",
      " 37  Type.10       657 non-null    object \n",
      " 38  2001          211 non-null    float64\n",
      " 39  Footnotes.11  0 non-null      float64\n",
      " 40  Type.11       211 non-null    object \n",
      " 41  2002          212 non-null    float64\n",
      " 42  Footnotes.12  0 non-null      float64\n",
      " 43  Type.12       212 non-null    object \n",
      " 44  2003          212 non-null    float64\n",
      " 45  Footnotes.13  0 non-null      float64\n",
      " 46  Type.13       212 non-null    object \n",
      " 47  2004          212 non-null    float64\n",
      " 48  Footnotes.14  0 non-null      float64\n",
      " 49  Type.14       212 non-null    object \n",
      " 50  2005          436 non-null    float64\n",
      " 51  Footnotes.15  5 non-null      float64\n",
      " 52  Type.15       437 non-null    object \n",
      " 53  2006          214 non-null    float64\n",
      " 54  Footnotes.16  0 non-null      float64\n",
      " 55  Type.16       214 non-null    object \n",
      " 56  2007          215 non-null    float64\n",
      " 57  Footnotes.17  0 non-null      float64\n",
      " 58  Type.17       215 non-null    object \n",
      " 59  2008          215 non-null    float64\n",
      " 60  Footnotes.18  0 non-null      float64\n",
      " 61  Type.18       215 non-null    object \n",
      " 62  2009          215 non-null    float64\n",
      " 63  Footnotes.19  0 non-null      float64\n",
      " 64  Type.19       215 non-null    object \n",
      " 65  2010          438 non-null    float64\n",
      " 66  Footnotes.20  5 non-null      float64\n",
      " 67  Type.20       439 non-null    object \n",
      " 68  2011          215 non-null    float64\n",
      " 69  Footnotes.21  0 non-null      float64\n",
      " 70  Type.21       215 non-null    object \n",
      " 71  2012          0 non-null      float64\n",
      " 72  Footnotes.22  0 non-null      float64\n",
      " 73  Type.22       0 non-null      float64\n",
      " 74  2013          0 non-null      float64\n",
      " 75  Footnotes.23  0 non-null      float64\n",
      " 76  Type.23       0 non-null      float64\n",
      " 77  2014          223 non-null    float64\n",
      " 78  Footnotes.24  0 non-null      float64\n",
      " 79  Type.24       223 non-null    object \n",
      " 80  2015          0 non-null      float64\n",
      " 81  Footnotes.25  0 non-null      float64\n",
      " 82  Type.25       0 non-null      float64\n",
      " 83  2016          0 non-null      float64\n",
      " 84  Footnotes.26  0 non-null      float64\n",
      " 85  Type.26       0 non-null      float64\n",
      " 86  2017          0 non-null      float64\n",
      " 87  Footnotes.27  0 non-null      float64\n",
      " 88  Type.27       0 non-null      float64\n",
      " 89  2018          0 non-null      float64\n",
      " 90  Footnotes.28  0 non-null      float64\n",
      " 91  Type.28       0 non-null      float64\n",
      " 92  2019          0 non-null      float64\n",
      " 93  Footnotes.29  0 non-null      float64\n",
      " 94  Type.29       0 non-null      float64\n",
      "dtypes: float64(67), int64(2), object(26)\n",
      "memory usage: 512.2+ KB\n"
     ]
    }
   ],
   "source": [
    "mdg_raw_df.info()"
   ]
  },
  {
   "cell_type": "markdown",
   "metadata": {},
   "source": [
    "The first step of cleaning the dataframe is removing the columns that will not be needed, either because they will not aid in answering the analyses or they are entirely null.\n",
    "\n",
    "All \"Footnote\" columns from 0 to 29 consist of a vast majority of only null values and as such should be dropped. All type columns of object type will also be dropped."
   ]
  },
  {
   "cell_type": "code",
   "execution_count": 14,
   "metadata": {},
   "outputs": [
    {
     "name": "stdout",
     "output_type": "stream",
     "text": [
      "<class 'pandas.core.frame.DataFrame'>\n",
      "RangeIndex: 690 entries, 0 to 689\n",
      "Data columns (total 35 columns):\n",
      " #   Column       Non-Null Count  Dtype  \n",
      "---  ------       --------------  -----  \n",
      " 0   CountryCode  690 non-null    int64  \n",
      " 1   Country      690 non-null    object \n",
      " 2   SeriesCode   690 non-null    int64  \n",
      " 3   MDG          690 non-null    object \n",
      " 4   Series       690 non-null    object \n",
      " 5   1990         627 non-null    float64\n",
      " 6   1991         182 non-null    float64\n",
      " 7   1992         204 non-null    float64\n",
      " 8   1993         204 non-null    float64\n",
      " 9   1994         205 non-null    float64\n",
      " 10  1995         207 non-null    float64\n",
      " 11  1996         206 non-null    float64\n",
      " 12  1997         209 non-null    float64\n",
      " 13  1998         209 non-null    float64\n",
      " 14  1999         209 non-null    float64\n",
      " 15  2000         656 non-null    float64\n",
      " 16  2001         211 non-null    float64\n",
      " 17  2002         212 non-null    float64\n",
      " 18  2003         212 non-null    float64\n",
      " 19  2004         212 non-null    float64\n",
      " 20  2005         436 non-null    float64\n",
      " 21  2006         214 non-null    float64\n",
      " 22  2007         215 non-null    float64\n",
      " 23  2008         215 non-null    float64\n",
      " 24  2009         215 non-null    float64\n",
      " 25  2010         438 non-null    float64\n",
      " 26  2011         215 non-null    float64\n",
      " 27  2012         0 non-null      float64\n",
      " 28  2013         0 non-null      float64\n",
      " 29  2014         223 non-null    float64\n",
      " 30  2015         0 non-null      float64\n",
      " 31  2016         0 non-null      float64\n",
      " 32  2017         0 non-null      float64\n",
      " 33  2018         0 non-null      float64\n",
      " 34  2019         0 non-null      float64\n",
      "dtypes: float64(30), int64(2), object(3)\n",
      "memory usage: 188.8+ KB\n"
     ]
    }
   ],
   "source": [
    "mdg_raw_df = mdg_raw_df.loc[:, ~mdg_raw_df.columns.str.contains('Footnote')]\n",
    "mdg_raw_df = mdg_raw_df.loc[:, ~mdg_raw_df.columns.str.contains('Type')]\n",
    "\n",
    "mdg_raw_df.info()"
   ]
  },
  {
   "cell_type": "markdown",
   "metadata": {},
   "source": [
    "The latest results indicate that all the Type and Footnote columns have been removed. From the remaining columns the only columns that consists entirely of null rows are the columns that represent the years '2012', '2013', '2015' - '2019'. \n",
    "\n",
    "Now to get rid of those as well."
   ]
  },
  {
   "cell_type": "code",
   "execution_count": 15,
   "metadata": {},
   "outputs": [
    {
     "name": "stdout",
     "output_type": "stream",
     "text": [
      "Index(['CountryCode', 'Country', 'SeriesCode', 'MDG', 'Series', '1990', '1991',\n",
      "       '1992', '1993', '1994', '1995', '1996', '1997', '1998', '1999', '2000',\n",
      "       '2001', '2002', '2003', '2004', '2005', '2006', '2007', '2008', '2009',\n",
      "       '2010', '2011', '2012', '2013', '2014', '2015', '2016', '2017', '2018',\n",
      "       '2019'],\n",
      "      dtype='object')\n"
     ]
    }
   ],
   "source": [
    "print(mdg_raw_df.columns)"
   ]
  },
  {
   "cell_type": "code",
   "execution_count": 16,
   "metadata": {},
   "outputs": [
    {
     "name": "stdout",
     "output_type": "stream",
     "text": [
      "<class 'pandas.core.frame.DataFrame'>\n",
      "RangeIndex: 690 entries, 0 to 689\n",
      "Data columns (total 28 columns):\n",
      " #   Column       Non-Null Count  Dtype  \n",
      "---  ------       --------------  -----  \n",
      " 0   CountryCode  690 non-null    int64  \n",
      " 1   Country      690 non-null    object \n",
      " 2   SeriesCode   690 non-null    int64  \n",
      " 3   MDG          690 non-null    object \n",
      " 4   Series       690 non-null    object \n",
      " 5   1990         627 non-null    float64\n",
      " 6   1991         182 non-null    float64\n",
      " 7   1992         204 non-null    float64\n",
      " 8   1993         204 non-null    float64\n",
      " 9   1994         205 non-null    float64\n",
      " 10  1995         207 non-null    float64\n",
      " 11  1996         206 non-null    float64\n",
      " 12  1997         209 non-null    float64\n",
      " 13  1998         209 non-null    float64\n",
      " 14  1999         209 non-null    float64\n",
      " 15  2000         656 non-null    float64\n",
      " 16  2001         211 non-null    float64\n",
      " 17  2002         212 non-null    float64\n",
      " 18  2003         212 non-null    float64\n",
      " 19  2004         212 non-null    float64\n",
      " 20  2005         436 non-null    float64\n",
      " 21  2006         214 non-null    float64\n",
      " 22  2007         215 non-null    float64\n",
      " 23  2008         215 non-null    float64\n",
      " 24  2009         215 non-null    float64\n",
      " 25  2010         438 non-null    float64\n",
      " 26  2011         215 non-null    float64\n",
      " 27  2014         223 non-null    float64\n",
      "dtypes: float64(23), int64(2), object(3)\n",
      "memory usage: 151.1+ KB\n"
     ]
    }
   ],
   "source": [
    "years_to_drop = [str(year) for year in range(1990, 2020, 1)]\n",
    "mdg_raw_df = mdg_raw_df.dropna(axis=1, how='all')\n",
    "\n",
    "mdg_raw_df.info()"
   ]
  },
  {
   "cell_type": "markdown",
   "metadata": {},
   "source": [
    "All the columns that consist entirely of rows with null values have been removed. The next step is to impute the remaining columns with null values with some value that will determine the type of data present in the dataframe. "
   ]
  },
  {
   "cell_type": "markdown",
   "metadata": {},
   "source": [
    "The DataFrame consists of three series: 'Proportion of land area covered by forest,' 'Carbon dioxide emissions (CO2),' and 'Terrestrial and marine areas protected to total territorial area.' Each series contains different types of data: percentages for 'Proportion of land area covered by forest' and 'Terrestrial and marine areas protected,' while 'Carbon dioxide emissions' represents a continuous variable. All three series are measured over some time, making them time series data. \n",
    "\n",
    "Both the Forward fill method and the Backward Fill method will be applied to all series values to address missing values within each series for every country. This is because time series data can often exhibit dependencies and trends over time, applying both forward and backward fill methods helps to interpolate missing values based on adjacent data points, reducing the impact of missing data on the analysis results.\n",
    "\n",
    "Both the Ffill and Bfill methods will work if there is at least a single entry in the year columns, if not nothing will be imputed, so as an extra step if there are countries where there are readings for across the available years they will be dropped as well."
   ]
  },
  {
   "cell_type": "code",
   "execution_count": 17,
   "metadata": {},
   "outputs": [
    {
     "name": "stdout",
     "output_type": "stream",
     "text": [
      "<class 'pandas.core.frame.DataFrame'>\n",
      "RangeIndex: 690 entries, 0 to 689\n",
      "Data columns (total 28 columns):\n",
      " #   Column       Non-Null Count  Dtype  \n",
      "---  ------       --------------  -----  \n",
      " 0   CountryCode  690 non-null    int64  \n",
      " 1   Country      690 non-null    object \n",
      " 2   SeriesCode   690 non-null    int64  \n",
      " 3   MDG          690 non-null    object \n",
      " 4   Series       690 non-null    object \n",
      " 5   1990         663 non-null    float64\n",
      " 6   1991         663 non-null    float64\n",
      " 7   1992         663 non-null    float64\n",
      " 8   1993         663 non-null    float64\n",
      " 9   1994         663 non-null    float64\n",
      " 10  1995         663 non-null    float64\n",
      " 11  1996         663 non-null    float64\n",
      " 12  1997         663 non-null    float64\n",
      " 13  1998         663 non-null    float64\n",
      " 14  1999         663 non-null    float64\n",
      " 15  2000         663 non-null    float64\n",
      " 16  2001         663 non-null    float64\n",
      " 17  2002         663 non-null    float64\n",
      " 18  2003         663 non-null    float64\n",
      " 19  2004         663 non-null    float64\n",
      " 20  2005         663 non-null    float64\n",
      " 21  2006         663 non-null    float64\n",
      " 22  2007         663 non-null    float64\n",
      " 23  2008         663 non-null    float64\n",
      " 24  2009         663 non-null    float64\n",
      " 25  2010         663 non-null    float64\n",
      " 26  2011         663 non-null    float64\n",
      " 27  2014         663 non-null    float64\n",
      "dtypes: float64(23), int64(2), object(3)\n",
      "memory usage: 151.1+ KB\n"
     ]
    }
   ],
   "source": [
    "years = [str(year) for year in range(1990, 2012)] + ['2014']\n",
    "\n",
    "co2_filter = mdg_raw_df['Series'] == 'Carbon dioxide emissions (CO2), thousand metric tons of CO2 (CDIAC)'\n",
    "forest_filter = mdg_raw_df['Series'] == 'Proportion of land area covered by forest, percentage'\n",
    "protected_filter = mdg_raw_df['Series'] == 'Terrestrial and marine areas protected to total territorial area, percentage'\n",
    "\n",
    "mdg_raw_df.loc[co2_filter, years] = mdg_raw_df.loc[co2_filter, years].ffill(axis=1).bfill(axis=1)\n",
    "mdg_raw_df.loc[forest_filter, years] = mdg_raw_df.loc[forest_filter, years].ffill(axis=1).bfill(axis=1)\n",
    "mdg_raw_df.loc[protected_filter, years] = mdg_raw_df.loc[protected_filter, years].ffill(axis=1).bfill(axis=1)\n",
    "\n",
    "mdg_raw_df.info()"
   ]
  },
  {
   "cell_type": "markdown",
   "metadata": {},
   "source": [
    "The dataframe has been imputed with all missing values using the forward-fill and backfill methods. The results of the `info()` attribute indicate that there might still be some null values present, these could be rows that do not contain a single column of values hence the forward-fill and backfill methods do not apply."
   ]
  },
  {
   "cell_type": "code",
   "execution_count": 18,
   "metadata": {},
   "outputs": [
    {
     "name": "stdout",
     "output_type": "stream",
     "text": [
      "<class 'pandas.core.frame.DataFrame'>\n",
      "Index: 663 entries, 0 to 689\n",
      "Data columns (total 28 columns):\n",
      " #   Column       Non-Null Count  Dtype  \n",
      "---  ------       --------------  -----  \n",
      " 0   CountryCode  663 non-null    int64  \n",
      " 1   Country      663 non-null    object \n",
      " 2   SeriesCode   663 non-null    int64  \n",
      " 3   MDG          663 non-null    object \n",
      " 4   Series       663 non-null    object \n",
      " 5   1990         663 non-null    float64\n",
      " 6   1991         663 non-null    float64\n",
      " 7   1992         663 non-null    float64\n",
      " 8   1993         663 non-null    float64\n",
      " 9   1994         663 non-null    float64\n",
      " 10  1995         663 non-null    float64\n",
      " 11  1996         663 non-null    float64\n",
      " 12  1997         663 non-null    float64\n",
      " 13  1998         663 non-null    float64\n",
      " 14  1999         663 non-null    float64\n",
      " 15  2000         663 non-null    float64\n",
      " 16  2001         663 non-null    float64\n",
      " 17  2002         663 non-null    float64\n",
      " 18  2003         663 non-null    float64\n",
      " 19  2004         663 non-null    float64\n",
      " 20  2005         663 non-null    float64\n",
      " 21  2006         663 non-null    float64\n",
      " 22  2007         663 non-null    float64\n",
      " 23  2008         663 non-null    float64\n",
      " 24  2009         663 non-null    float64\n",
      " 25  2010         663 non-null    float64\n",
      " 26  2011         663 non-null    float64\n",
      " 27  2014         663 non-null    float64\n",
      "dtypes: float64(23), int64(2), object(3)\n",
      "memory usage: 150.2+ KB\n"
     ]
    }
   ],
   "source": [
    "mdg_raw_df.dropna(subset=years, how='all', inplace=True)\n",
    "mdg_df = mdg_raw_df\n",
    "mdg_df.info()\n"
   ]
  },
  {
   "cell_type": "markdown",
   "metadata": {},
   "source": [
    "The dataframe has been cleaned and ready to be analysed."
   ]
  },
  {
   "cell_type": "markdown",
   "metadata": {},
   "source": [
    "___"
   ]
  },
  {
   "cell_type": "markdown",
   "metadata": {},
   "source": [
    "# 2 Exploratory Data Analysis\n"
   ]
  },
  {
   "cell_type": "markdown",
   "metadata": {},
   "source": [
    "+ ### The top and bottom 5 countries CO2 emissions in 1990 and how they evolved in 2011\n",
    "  \n",
    "To find out the top and bottom 5 countries in terms of CO2 emissions, 2 new dataframes for each will be created and compared with the dataframes with the CO2 emissions for 2011\n"
   ]
  },
  {
   "cell_type": "code",
   "execution_count": 19,
   "metadata": {},
   "outputs": [
    {
     "data": {
      "text/html": [
       "<div>\n",
       "<style scoped>\n",
       "    .dataframe tbody tr th:only-of-type {\n",
       "        vertical-align: middle;\n",
       "    }\n",
       "\n",
       "    .dataframe tbody tr th {\n",
       "        vertical-align: top;\n",
       "    }\n",
       "\n",
       "    .dataframe thead th {\n",
       "        text-align: right;\n",
       "    }\n",
       "</style>\n",
       "<table border=\"1\" class=\"dataframe\">\n",
       "  <thead>\n",
       "    <tr style=\"text-align: right;\">\n",
       "      <th></th>\n",
       "      <th>Country</th>\n",
       "      <th>co2_emissions</th>\n",
       "    </tr>\n",
       "  </thead>\n",
       "  <tbody>\n",
       "    <tr>\n",
       "      <th>652</th>\n",
       "      <td>United States</td>\n",
       "      <td>4823557.1</td>\n",
       "    </tr>\n",
       "    <tr>\n",
       "      <th>124</th>\n",
       "      <td>China</td>\n",
       "      <td>2460744.0</td>\n",
       "    </tr>\n",
       "    <tr>\n",
       "      <th>499</th>\n",
       "      <td>Russian Federation</td>\n",
       "      <td>2081840.2</td>\n",
       "    </tr>\n",
       "    <tr>\n",
       "      <th>301</th>\n",
       "      <td>Japan</td>\n",
       "      <td>1094287.8</td>\n",
       "    </tr>\n",
       "    <tr>\n",
       "      <th>229</th>\n",
       "      <td>Germany</td>\n",
       "      <td>929973.2</td>\n",
       "    </tr>\n",
       "  </tbody>\n",
       "</table>\n",
       "</div>"
      ],
      "text/plain": [
       "                Country  co2_emissions\n",
       "652       United States      4823557.1\n",
       "124               China      2460744.0\n",
       "499  Russian Federation      2081840.2\n",
       "301               Japan      1094287.8\n",
       "229             Germany       929973.2"
      ]
     },
     "execution_count": 19,
     "metadata": {},
     "output_type": "execute_result"
    }
   ],
   "source": [
    "co2_1990_df = mdg_df.loc[(mdg_df['SeriesCode'] == 749) & (mdg_df['1990'])]\n",
    "co2_2011_df = mdg_df.loc[(mdg_df['SeriesCode'] == 749) & (mdg_df['2011'])]\n",
    "\n",
    "top_countries_co2_1990_df = co2_1990_df[['Country', '1990']].nlargest(5, '1990')\n",
    "bottom_countries_co2_1990_df = co2_1990_df[['Country', '1990']].nsmallest(5, '1990')\n",
    "\n",
    "\n",
    "top_countries_co2_1990_df.columns = ['Country', 'co2_emissions']\n",
    "bottom_countries_co2_1990_df.columns = ['Country', 'co2_emissions']\n",
    "\n",
    "top_countries_co2_1990_df"
   ]
  },
  {
   "cell_type": "code",
   "execution_count": 20,
   "metadata": {},
   "outputs": [
    {
     "data": {
      "text/html": [
       "<div>\n",
       "<style scoped>\n",
       "    .dataframe tbody tr th:only-of-type {\n",
       "        vertical-align: middle;\n",
       "    }\n",
       "\n",
       "    .dataframe tbody tr th {\n",
       "        vertical-align: top;\n",
       "    }\n",
       "\n",
       "    .dataframe thead th {\n",
       "        text-align: right;\n",
       "    }\n",
       "</style>\n",
       "<table border=\"1\" class=\"dataframe\">\n",
       "  <thead>\n",
       "    <tr style=\"text-align: right;\">\n",
       "      <th></th>\n",
       "      <th>Country</th>\n",
       "      <th>co2_emissions</th>\n",
       "    </tr>\n",
       "  </thead>\n",
       "  <tbody>\n",
       "    <tr>\n",
       "      <th>445</th>\n",
       "      <td>Niue</td>\n",
       "      <td>3.7</td>\n",
       "    </tr>\n",
       "    <tr>\n",
       "      <th>505</th>\n",
       "      <td>Saint Helena</td>\n",
       "      <td>7.3</td>\n",
       "    </tr>\n",
       "    <tr>\n",
       "      <th>631</th>\n",
       "      <td>Turks and Caicos Islands</td>\n",
       "      <td>11.0</td>\n",
       "    </tr>\n",
       "    <tr>\n",
       "      <th>673</th>\n",
       "      <td>Wallis and Futuna Islands</td>\n",
       "      <td>14.7</td>\n",
       "    </tr>\n",
       "    <tr>\n",
       "      <th>559</th>\n",
       "      <td>Somalia</td>\n",
       "      <td>18.3</td>\n",
       "    </tr>\n",
       "  </tbody>\n",
       "</table>\n",
       "</div>"
      ],
      "text/plain": [
       "                       Country  co2_emissions\n",
       "445                       Niue            3.7\n",
       "505               Saint Helena            7.3\n",
       "631   Turks and Caicos Islands           11.0\n",
       "673  Wallis and Futuna Islands           14.7\n",
       "559                    Somalia           18.3"
      ]
     },
     "execution_count": 20,
     "metadata": {},
     "output_type": "execute_result"
    }
   ],
   "source": [
    "bottom_countries_co2_1990_df"
   ]
  },
  {
   "cell_type": "markdown",
   "metadata": {},
   "source": [
    "The two dataframes, namely `top_countries_co2_1990_df` and `bottom_countries_co2_1990_df`, exhibit a stark contrast in their CO2 emission values. Countries such as the United States, China, and Japan tend to have higher emissions due to their heavy industrialization during that time."
   ]
  },
  {
   "cell_type": "code",
   "execution_count": 21,
   "metadata": {},
   "outputs": [
    {
     "data": {
      "text/html": [
       "<div>\n",
       "<style scoped>\n",
       "    .dataframe tbody tr th:only-of-type {\n",
       "        vertical-align: middle;\n",
       "    }\n",
       "\n",
       "    .dataframe tbody tr th {\n",
       "        vertical-align: top;\n",
       "    }\n",
       "\n",
       "    .dataframe thead th {\n",
       "        text-align: right;\n",
       "    }\n",
       "</style>\n",
       "<table border=\"1\" class=\"dataframe\">\n",
       "  <thead>\n",
       "    <tr style=\"text-align: right;\">\n",
       "      <th></th>\n",
       "      <th>Country</th>\n",
       "      <th>co2_emissions</th>\n",
       "    </tr>\n",
       "  </thead>\n",
       "  <tbody>\n",
       "    <tr>\n",
       "      <th>124</th>\n",
       "      <td>China</td>\n",
       "      <td>9019518.2</td>\n",
       "    </tr>\n",
       "    <tr>\n",
       "      <th>652</th>\n",
       "      <td>United States</td>\n",
       "      <td>5305569.6</td>\n",
       "    </tr>\n",
       "    <tr>\n",
       "      <th>277</th>\n",
       "      <td>India</td>\n",
       "      <td>2074344.9</td>\n",
       "    </tr>\n",
       "    <tr>\n",
       "      <th>499</th>\n",
       "      <td>Russian Federation</td>\n",
       "      <td>1808073.0</td>\n",
       "    </tr>\n",
       "    <tr>\n",
       "      <th>301</th>\n",
       "      <td>Japan</td>\n",
       "      <td>1187657.0</td>\n",
       "    </tr>\n",
       "  </tbody>\n",
       "</table>\n",
       "</div>"
      ],
      "text/plain": [
       "                Country  co2_emissions\n",
       "124               China      9019518.2\n",
       "652       United States      5305569.6\n",
       "277               India      2074344.9\n",
       "499  Russian Federation      1808073.0\n",
       "301               Japan      1187657.0"
      ]
     },
     "execution_count": 21,
     "metadata": {},
     "output_type": "execute_result"
    }
   ],
   "source": [
    "top_countries_co2_2011_df = co2_2011_df[['Country', '2011']].nlargest(5, '2011')\n",
    "bottom_countries_co2_2011_df = co2_2011_df[['Country', '2011']].nsmallest(5, '2011')\n",
    "\n",
    "top_countries_co2_2011_df.columns = ['Country', 'co2_emissions']\n",
    "bottom_countries_co2_2011_df.columns = ['Country', 'co2_emissions']\n",
    "\n",
    "top_countries_co2_2011_df"
   ]
  },
  {
   "cell_type": "code",
   "execution_count": 22,
   "metadata": {},
   "outputs": [
    {
     "data": {
      "text/html": [
       "<div>\n",
       "<style scoped>\n",
       "    .dataframe tbody tr th:only-of-type {\n",
       "        vertical-align: middle;\n",
       "    }\n",
       "\n",
       "    .dataframe tbody tr th {\n",
       "        vertical-align: top;\n",
       "    }\n",
       "\n",
       "    .dataframe thead th {\n",
       "        text-align: right;\n",
       "    }\n",
       "</style>\n",
       "<table border=\"1\" class=\"dataframe\">\n",
       "  <thead>\n",
       "    <tr style=\"text-align: right;\">\n",
       "      <th></th>\n",
       "      <th>Country</th>\n",
       "      <th>co2_emissions</th>\n",
       "    </tr>\n",
       "  </thead>\n",
       "  <tbody>\n",
       "    <tr>\n",
       "      <th>445</th>\n",
       "      <td>Niue</td>\n",
       "      <td>11.0</td>\n",
       "    </tr>\n",
       "    <tr>\n",
       "      <th>505</th>\n",
       "      <td>Saint Helena</td>\n",
       "      <td>11.0</td>\n",
       "    </tr>\n",
       "    <tr>\n",
       "      <th>673</th>\n",
       "      <td>Wallis and Futuna Islands</td>\n",
       "      <td>25.7</td>\n",
       "    </tr>\n",
       "    <tr>\n",
       "      <th>346</th>\n",
       "      <td>Liechtenstein</td>\n",
       "      <td>51.3</td>\n",
       "    </tr>\n",
       "    <tr>\n",
       "      <th>418</th>\n",
       "      <td>Nauru</td>\n",
       "      <td>51.3</td>\n",
       "    </tr>\n",
       "  </tbody>\n",
       "</table>\n",
       "</div>"
      ],
      "text/plain": [
       "                       Country  co2_emissions\n",
       "445                       Niue           11.0\n",
       "505               Saint Helena           11.0\n",
       "673  Wallis and Futuna Islands           25.7\n",
       "346              Liechtenstein           51.3\n",
       "418                      Nauru           51.3"
      ]
     },
     "execution_count": 22,
     "metadata": {},
     "output_type": "execute_result"
    }
   ],
   "source": [
    "bottom_countries_co2_2011_df"
   ]
  },
  {
   "cell_type": "markdown",
   "metadata": {},
   "source": [
    "In the year 2011, 21 years have passed and there have been some slight changes in the CO2 emissions in the past decade, in 1990 Niu, Saint Helena, Turks and Caicos Islands, Wallis and Futuna Islands, and Somalia were the countries with the lowest emissions of CO2, in 2011 there is a slight change in those numbers, Turks and Caicos Islands as well as Somalia are replaced by Lichtenstein and Nauru. Niu and Saint Helena still maintain the first and second positions with Wallis and Futuna Islands moving from 4th to 3rd place and Lichtenstein and Naurau entering at 4th and 5th place.\n",
    "\n",
    "In 1990 the top 5 countries with the highest CO2 emissions were(in descending order) the United States, China, the Russian Federation, Japan, and  Germany, after 21 years the list only changed slightly with China overtaking the United States for 1st place, with the latter coming in 2nd place, India makes a 3rd place appearance replacing Germany and moving the Russian Federation and Japan further down."
   ]
  },
  {
   "cell_type": "markdown",
   "metadata": {},
   "source": [
    "### Determining the mean and median CO2 emissions for 1990.\n",
    "\n",
    "\n",
    "To calculate the average and middle value of CO2 emissions for the year 1990, we extracted a subset of the dataset containing only the CO2 emissions data and filtered it to include only the observations from the year 1990. This allowed us to accurately determine the mean and median CO2 emissions for the specified year."
   ]
  },
  {
   "cell_type": "code",
   "execution_count": 23,
   "metadata": {},
   "outputs": [
    {
     "name": "stdout",
     "output_type": "stream",
     "text": [
      "The mean of the data is 97411.88\n",
      "The median of the data is 4070.4\n"
     ]
    }
   ],
   "source": [
    "co2_series_filter = mdg_df['Series'] == 'Carbon dioxide emissions (CO2), thousand metric tons of CO2 (CDIAC)'\n",
    "co2_1990_data = mdg_df.loc[co2_series_filter, '1990']\n",
    "\n",
    "mean_co2_emissions_1990 = co2_1990_data.mean()\n",
    "median_co2_emissions_1990 = co2_1990_data.median()\n",
    "\n",
    "\n",
    "print(f\"The mean of the data is {round(mean_co2_emissions_1990  ,2)}\")\n",
    "print(f\"The median of the data is {round(median_co2_emissions_1990 ,2)}\")"
   ]
  },
  {
   "cell_type": "markdown",
   "metadata": {},
   "source": [
    "The data for the year 1990 indicates that the mean of the CO2 emission is far greater than the median of the emission. This indicates the data is positively skewed. \n",
    "\n",
    "When examining the dataframes `top_countries_co2_1990_df` and `bottom_countries_co2_1990_df`, a vast difference is evident between the CO2 emission values of the bottom 5 countries and the top 5 countries, with this difference ranging across millions. This substantial spread in data suggests the presence of outliers and extreme values, which skew the mean towards higher values. Consequently, the mean shifts towards the right end of the distribution, resulting in a notable disparity between the mean and median. It's important to note that such large differences primarily influence the mean, while the median remains unaffected by their magnitude. Additionally, the elevated CO2 emission values of the top countries contribute significantly to the high mean value."
   ]
  },
  {
   "cell_type": "markdown",
   "metadata": {},
   "source": [
    "### Determining the other statistics for the 1990 CO2 emissions and interpreting what they mean for the distribution of the data.\n",
    "\n",
    "The next part of the analysis will see the focus on the other test statistics (min, max and interquartile range) being calculated and determining what they mean for the the distribution of the 1990 CO2 emissions data"
   ]
  },
  {
   "cell_type": "code",
   "execution_count": 24,
   "metadata": {},
   "outputs": [
    {
     "name": "stdout",
     "output_type": "stream",
     "text": [
      "The minimum CO2 level is 3.7\n",
      "The maximum CO2 level is 4823557.1\n",
      "The interquartile range for the CO2 emission is 43641.0\n"
     ]
    }
   ],
   "source": [
    "minimum_co2_emmisions_1990 = co2_1990_data.describe().loc['min']\n",
    "maximum_co2_emmisions_1990 = co2_1990_data.describe().loc['max'] \n",
    "iqr_co2_emissions_1990 = co2_1990_data.describe().loc['75%'] - co2_1990_data.describe().loc['25%']\n",
    "\n",
    "\n",
    "print(f\"The minimum CO2 level is {round(minimum_co2_emmisions_1990, 3)}\")\n",
    "print(f\"The maximum CO2 level is {round(maximum_co2_emmisions_1990, 3)}\")\n",
    "print(f\"The interquartile range for the CO2 emission is {round(iqr_co2_emissions_1990, 3)}\")"
   ]
  },
  {
   "cell_type": "markdown",
   "metadata": {},
   "source": [
    "The results obtained above indicate some insightful things, with the minimum being 3.7 tonnes and the maximum being `4 823 557.1` tonnes indicating that there is a vast range in terms of emissions of all the countries in the `mdg_df` dataframe. The interquartile range being 43  641 metric tonnes indicates that the variability between the first and third quartile is also very high.\n",
    "\n",
    "Based on the summary statistics observed it would appear that the data is highly variable and positively skewed since the mean is far greater than the median. "
   ]
  },
  {
   "cell_type": "markdown",
   "metadata": {},
   "source": [
    "### Visualising the the 1990 CO2 emission data.\n",
    "\n",
    "To better understand the data distribution, a suitable visualization such as a histogram can simulate a normal distribution, which provides more insights into the data."
   ]
  },
  {
   "cell_type": "code",
   "execution_count": 25,
   "metadata": {},
   "outputs": [
    {
     "data": {
      "image/png": "[encoded data removed]",
      "text/plain": [
       "<Figure size 640x480 with 1 Axes>"
      ]
     },
     "metadata": {},
     "output_type": "display_data"
    }
   ],
   "source": [
    "sns.histplot(co2_1990_data, color='blue', bins=40, kde=True)\n",
    "plt.xlabel('CO2 emissions (thousands of metric tonnes)', fontweight = 'bold')\n",
    "plt.ylabel('Frequency', fontweight = 'bold')\n",
    "plt.title('Histogram of CO2 emissions for 1990', fontweight = 'bold')\n",
    "plt.xlim(0, 8e5)\n",
    "plt.show()"
   ]
  },
  {
   "cell_type": "markdown",
   "metadata": {},
   "source": [
    "The histogram shows a majority of CO2 emissions below one million metric tonnes, indicating a positive skew relationship."
   ]
  },
  {
   "cell_type": "markdown",
   "metadata": {},
   "source": [
    "### Determining the standard deviation and standard error of the mean for the CO2 emissions in 1990. \n",
    "\n",
    "Next, we will calculate the standard deviation and standard error of the mean. Then, we can compare and analyze these two values to draw insights."
   ]
  },
  {
   "cell_type": "code",
   "execution_count": 26,
   "metadata": {},
   "outputs": [
    {
     "name": "stdout",
     "output_type": "stream",
     "text": [
      "The standard deviation is 410714.97\n",
      "The standard error of the mean is 27881.15\n"
     ]
    }
   ],
   "source": [
    "std_co2_emmisions_1990  = co2_1990_data.std()\n",
    "\n",
    "stderr_co2_emmisions_1990  = np.std(co2_1990_data, ddof=1) / np.sqrt(len(co2_1990_data))\n",
    "\n",
    "print(f\"The standard deviation is {round(std_co2_emmisions_1990 ,2)}\")\n",
    "print(f\"The standard error of the mean is {round(stderr_co2_emmisions_1990 ,2)}\")"
   ]
  },
  {
   "cell_type": "markdown",
   "metadata": {},
   "source": [
    "The standard deviation of the data is `410714.97` metric tons, which varies greatly from the mean value of the CO2 emissions which is `97411.88` metric tons, this indicates a wide dispersion between the data. The standard error of the mean is `27881.15` metric tonnes, this differs from the standard deviation because this number represents how far the sample mean would vary from the true mean. "
   ]
  },
  {
   "cell_type": "markdown",
   "metadata": {},
   "source": [
    "### Change in the CO2 emissions of Brazil, Russia, China, India, the USA and South Africa over time.\n",
    "\n",
    "A line graph would be a suitable way to illustrate the changes in CO2 emissions of Brazil, Russia, China, India, the USA, and South Africa over time. These countries have undergone significant economic and developmental changes since 1990, and these changes might also be reflected in their CO2 emissions over the years."
   ]
  },
  {
   "cell_type": "code",
   "execution_count": 27,
   "metadata": {},
   "outputs": [
    {
     "data": {
      "image/png": "[encoded data removed]",
      "text/plain": [
       "<Figure size 1000x600 with 1 Axes>"
      ]
     },
     "metadata": {},
     "output_type": "display_data"
    }
   ],
   "source": [
    "countries = ['Brazil', 'Russian Federation', 'China', 'India', 'United States', 'South Africa']\n",
    "years = [str(year) for year in range(1990, 2012)] + ['2014']\n",
    "\n",
    "co2_emissions_selected_countries = mdg_df[(mdg_df['Country'].isin(countries)) & \n",
    "                                           (mdg_df['Series'] == 'Carbon dioxide emissions (CO2), thousand metric tons of CO2 (CDIAC)')]\n",
    "\n",
    "plt.figure(figsize=(10, 6))\n",
    "\n",
    "for country in countries:\n",
    "    country_data = co2_emissions_selected_countries[co2_emissions_selected_countries['Country'] == country][years].values.flatten()\n",
    "    sns.lineplot(x=years, y=country_data, label=country)\n",
    "\n",
    "plt.xlabel('Year', fontweight='bold')\n",
    "plt.ylabel('CO2 Emissions (thousands of metric tonnes)', fontweight='bold')\n",
    "plt.ticklabel_format(style='plain', axis='y')\n",
    "plt.title('CO2 Emissions Over Time in Selected Countries', fontweight='bold')\n",
    "legend = plt.legend(title='Selected Countries', loc='best')\n",
    "legend.get_title().set_fontweight('bold') \n",
    "plt.xticks(rotation=45)\n",
    "plt.tight_layout()\n",
    "plt.show()"
   ]
  },
  {
   "cell_type": "markdown",
   "metadata": {},
   "source": [
    "Based on the line graph data, it can be observed that South Africa and Brazil have consistently maintained low levels of CO2 emissions over the years. There has been no significant increase or decrease in their emission levels. Conversely, India had high CO2 emissions in 1990, and since then, their emissions have been steadily increasing. The Russian Federation has had a nearly linear progression in its emissions, with a minor decline between 1993 and 1994, and has maintained a stable level since then. China had minor emissions in 1990, but their emissions have shown a significant exponential growth over the years, making them the highest producer of CO2. This could be attributed to their rapid expansion into manufacturing, which produces large amounts of CO2. Lastly, the United States started as the largest emitter of CO2, but its emissions have shown a brief and nearly linear increase."
   ]
  },
  {
   "cell_type": "markdown",
   "metadata": {},
   "source": [
    "### Mean and standard deviation statistic for land area covered by forest in 1990."
   ]
  },
  {
   "cell_type": "markdown",
   "metadata": {},
   "source": [
    "For this part of the analysis the `mdg_df` dataframe was filtered by the series 'Proportion of land area covered by forest, percentage' to see what insights can be pulled from its analysis"
   ]
  },
  {
   "cell_type": "code",
   "execution_count": 28,
   "metadata": {},
   "outputs": [
    {
     "name": "stdout",
     "output_type": "stream",
     "text": [
      "The mean of the land area covered in 1990 is 32.977\n",
      "The standard deviation of the land area covered in 1990 is 25.498\n"
     ]
    }
   ],
   "source": [
    "land_area_covered_filter = mdg_df['Series'] == 'Proportion of land area covered by forest, percentage'\n",
    "\n",
    "land_area_1990_data = mdg_df.loc[land_area_covered_filter, '1990']\n",
    "\n",
    "mean_land_area_covered_forest_1990  = land_area_1990_data.mean()\n",
    "std_land_area_covered_forest_1990  = land_area_1990_data.std()\n",
    "\n",
    "print(f\"The mean of the land area covered in 1990 is {round(mean_land_area_covered_forest_1990, 3)}\")\n",
    "print(f\"The standard deviation of the land area covered in 1990 is {round(std_land_area_covered_forest_1990, 3)}\")"
   ]
  },
  {
   "cell_type": "markdown",
   "metadata": {},
   "source": [
    "The mean value is calculated to be `32.977`, with a corresponding standard deviation of `25.498`. Such a large standard deviation suggests a significant variability in the amount of forest-covered land across all countries in the dataframe. This variability may be attributed to the considerable differences in landmass among these countries, which would naturally affect the extent of forest cover.\n"
   ]
  },
  {
   "cell_type": "markdown",
   "metadata": {},
   "source": [
    "### Visualisation of the land area covered by forest and the percentage of area protected in 1990. \n",
    "\n",
    "Like in the previous dataframe, a histogram is a suitable graph to display how the data within the two dataframes is distributed and will allow us to draw conclusions based on the distribution of these dataframes."
   ]
  },
  {
   "cell_type": "code",
   "execution_count": 29,
   "metadata": {},
   "outputs": [
    {
     "data": {
      "image/png": "[encoded data removed]",
      "text/plain": [
       "<Figure size 1000x600 with 1 Axes>"
      ]
     },
     "metadata": {},
     "output_type": "display_data"
    }
   ],
   "source": [
    "plt.figure(figsize=(10,6))\n",
    "sns.histplot(land_area_1990_data, color='blue', bins=40, kde=True)\n",
    "plt.xlabel('Proportion of land area covered by forest (%)', fontweight = 'bold')\n",
    "plt.ylabel('Frequency', fontweight = 'bold')\n",
    "plt.title('Histogram of the proportion of land area covered by forest in 1990', fontweight = 'bold')\n",
    "plt.show()"
   ]
  },
  {
   "cell_type": "markdown",
   "metadata": {},
   "source": [
    "Based on the histogram depicted above, it appears that the data exhibits a positive skew. This is evidenced by the peak being situated towards the left-hand side of the graph and the tail extending towards the right. The observed skewness could account for the relatively high standard deviation value, as it is a contributing factor."
   ]
  },
  {
   "cell_type": "markdown",
   "metadata": {},
   "source": [
    "The next step is creating a histogram for the Terrestrial and Marine Areas protected to territorial areas. To do this the same filtering was done one on `mdg_df` as above for the series."
   ]
  },
  {
   "cell_type": "code",
   "execution_count": 30,
   "metadata": {},
   "outputs": [
    {
     "data": {
      "image/png": "[encoded data removed]",
      "text/plain": [
       "<Figure size 1000x600 with 1 Axes>"
      ]
     },
     "metadata": {},
     "output_type": "display_data"
    }
   ],
   "source": [
    "terrestrial_and_marine_filter = mdg_df['Series'] == 'Terrestrial and marine areas protected to total territorial area, percentage'\n",
    "terrestrial_and_marine_area_1990_data = mdg_df.loc[terrestrial_and_marine_filter, '1990']\n",
    "\n",
    "plt.figure(figsize=(10,6))\n",
    "sns.histplot(terrestrial_and_marine_area_1990_data, color='red', bins=40, kde=True)\n",
    "plt.xlabel('Terrestrial and marine areas protected to total territorial area, (%)', fontweight = 'bold')\n",
    "plt.ylabel('Frequency', fontweight = 'bold')\n",
    "plt.title('Histogram of terrestrial and marine areas protected to total territorial area in 1990', fontweight = 'bold')\n",
    "plt.show()"
   ]
  },
  {
   "cell_type": "markdown",
   "metadata": {},
   "source": [
    "The histogram results differ significantly from the previous one. While the histogram for the proportion of land covered displayed a dispersed visual with no clear peak, the histogram for the protected terrestrial and marine areas showed a positive skew with a definite peak around 2-3%. This indicates that less than 10% of terrestrial and marine areas were protected in 1990, while there was variation in the percentage of land area covered by forests across countries in the same year."
   ]
  },
  {
   "cell_type": "markdown",
   "metadata": {},
   "source": [
    "### Visual analysis between the Proportion of Land Area Covered by Forest series and The Percentage of Area Protected series.\n",
    "\n",
    "In order to determine if there is a correlation between the `Proportion of Land Area Covered by Forest` and `The Percentage of Area Protected`, it would be appropriate to use a scatterplot graph with a regression line. This will help in analyzing the two series and identifying any possible relationship between them."
   ]
  },
  {
   "cell_type": "code",
   "execution_count": 31,
   "metadata": {},
   "outputs": [
    {
     "data": {
      "image/png": "[encoded data removed]",
      "text/plain": [
       "<Figure size 1000x600 with 1 Axes>"
      ]
     },
     "metadata": {},
     "output_type": "display_data"
    }
   ],
   "source": [
    "terrestrial_and_marine_filter = mdg_df['Series'] == 'Terrestrial and marine areas protected to total territorial area, percentage'\n",
    "\n",
    "terrestrial_and_marine_2000_data = mdg_df.loc[terrestrial_and_marine_filter, '2000']\n",
    "land_area_2000_data = mdg_df.loc[land_area_covered_filter, '2000']\n",
    "\n",
    "plt.figure(figsize=(10,6))\n",
    "sns.regplot(x=land_area_2000_data, y=terrestrial_and_marine_2000_data, order=1, robust=True, marker=\"o\", color=\".3\", line_kws=dict(color=\"green\"))\n",
    "plt.xlabel(\"Proportion of land area covered by forest (%)\", fontweight='bold')\n",
    "plt.ylabel(\"Terrestrial and marine areas protected \\n to total territorial area, percentage\", fontweight='bold')\n",
    "plt.title(\"Relationship between Proportion of land area covered \\n and Percentage of area protected in 2000\", fontweight='bold')\n",
    "\n",
    "plt.show()"
   ]
  },
  {
   "cell_type": "markdown",
   "metadata": {},
   "source": [
    "Based on the scatter plot, there seems to be a slight horizontal linear relationship between the two variables, but there is not much correlation between them. Some outliers are present in the data, which have affected the regression line and caused it to appear more positive than it should be. These outliers are due to high values for the percentage of area protected, which increases the vertical line towards the end. Although there is a minor pattern in the shape of the graph, where the points get less dense as the percentage of terrestrial and marine areas protected to the total area increases, this pattern is not influenced by the proportion of land covered."
   ]
  },
  {
   "cell_type": "markdown",
   "metadata": {},
   "source": [
    "### Calculating the Correlation Coefficient for The Proportion of Land Area Covered by Forest data as well as the Terrestrial and Marine Areas Protected to Total Territorial Area, Percentage data. \n",
    "\n",
    "To calculate a correlation coefficient between forested land area and protected area, it is necessary to log-transform these variables as they are not normally distributed. Additionally, a histogram will be created to visualize the distributions of both variables."
   ]
  },
  {
   "cell_type": "code",
   "execution_count": 32,
   "metadata": {},
   "outputs": [
    {
     "data": {
      "text/html": [
       "<div>\n",
       "<style scoped>\n",
       "    .dataframe tbody tr th:only-of-type {\n",
       "        vertical-align: middle;\n",
       "    }\n",
       "\n",
       "    .dataframe tbody tr th {\n",
       "        vertical-align: top;\n",
       "    }\n",
       "\n",
       "    .dataframe thead th {\n",
       "        text-align: right;\n",
       "    }\n",
       "</style>\n",
       "<table border=\"1\" class=\"dataframe\">\n",
       "  <thead>\n",
       "    <tr style=\"text-align: right;\">\n",
       "      <th></th>\n",
       "      <th>Country</th>\n",
       "      <th>log_transformed_forested_land_area_value</th>\n",
       "    </tr>\n",
       "  </thead>\n",
       "  <tbody>\n",
       "    <tr>\n",
       "      <th>0</th>\n",
       "      <td>Afghanistan</td>\n",
       "      <td>1.131402</td>\n",
       "    </tr>\n",
       "    <tr>\n",
       "      <th>3</th>\n",
       "      <td>Albania</td>\n",
       "      <td>3.370738</td>\n",
       "    </tr>\n",
       "    <tr>\n",
       "      <th>6</th>\n",
       "      <td>Algeria</td>\n",
       "      <td>0.530628</td>\n",
       "    </tr>\n",
       "    <tr>\n",
       "      <th>9</th>\n",
       "      <td>American Samoa</td>\n",
       "      <td>4.510860</td>\n",
       "    </tr>\n",
       "    <tr>\n",
       "      <th>12</th>\n",
       "      <td>Andorra</td>\n",
       "      <td>3.600048</td>\n",
       "    </tr>\n",
       "  </tbody>\n",
       "</table>\n",
       "</div>"
      ],
      "text/plain": [
       "           Country  log_transformed_forested_land_area_value\n",
       "0      Afghanistan                                  1.131402\n",
       "3          Albania                                  3.370738\n",
       "6          Algeria                                  0.530628\n",
       "9   American Samoa                                  4.510860\n",
       "12         Andorra                                  3.600048"
      ]
     },
     "execution_count": 32,
     "metadata": {},
     "output_type": "execute_result"
    }
   ],
   "source": [
    "land_area_covered_2000_df = mdg_df.loc[(mdg_df['SeriesCode'] == 567) & mdg_df['2000']]\n",
    "\n",
    "log_transformed_land_area_covered_2000_df = land_area_covered_2000_df[['Country', '2000']].copy()\n",
    "log_transformed_land_area_covered_2000_df['2000'] = log_transformed_land_area_covered_2000_df['2000'].apply(np.log1p)\n",
    "\n",
    "log_transformed_land_area_covered_2000_df = log_transformed_land_area_covered_2000_df.rename(columns={'2000': 'log_transformed_forested_land_area_value'})\n",
    "\n",
    "log_transformed_land_area_covered_2000_df.head()\n"
   ]
  },
  {
   "cell_type": "code",
   "execution_count": 33,
   "metadata": {},
   "outputs": [
    {
     "data": {
      "text/html": [
       "<div>\n",
       "<style scoped>\n",
       "    .dataframe tbody tr th:only-of-type {\n",
       "        vertical-align: middle;\n",
       "    }\n",
       "\n",
       "    .dataframe tbody tr th {\n",
       "        vertical-align: top;\n",
       "    }\n",
       "\n",
       "    .dataframe thead th {\n",
       "        text-align: right;\n",
       "    }\n",
       "</style>\n",
       "<table border=\"1\" class=\"dataframe\">\n",
       "  <thead>\n",
       "    <tr style=\"text-align: right;\">\n",
       "      <th></th>\n",
       "      <th>Country</th>\n",
       "      <th>log_transformed_protected_area_value</th>\n",
       "    </tr>\n",
       "  </thead>\n",
       "  <tbody>\n",
       "    <tr>\n",
       "      <th>2</th>\n",
       "      <td>Afghanistan</td>\n",
       "      <td>0.307485</td>\n",
       "    </tr>\n",
       "    <tr>\n",
       "      <th>5</th>\n",
       "      <td>Albania</td>\n",
       "      <td>0.392042</td>\n",
       "    </tr>\n",
       "    <tr>\n",
       "      <th>8</th>\n",
       "      <td>Algeria</td>\n",
       "      <td>1.943049</td>\n",
       "    </tr>\n",
       "    <tr>\n",
       "      <th>11</th>\n",
       "      <td>American Samoa</td>\n",
       "      <td>0.058269</td>\n",
       "    </tr>\n",
       "    <tr>\n",
       "      <th>14</th>\n",
       "      <td>Andorra</td>\n",
       "      <td>2.327278</td>\n",
       "    </tr>\n",
       "  </tbody>\n",
       "</table>\n",
       "</div>"
      ],
      "text/plain": [
       "           Country  log_transformed_protected_area_value\n",
       "2      Afghanistan                              0.307485\n",
       "5          Albania                              0.392042\n",
       "8          Algeria                              1.943049\n",
       "11  American Samoa                              0.058269\n",
       "14         Andorra                              2.327278"
      ]
     },
     "execution_count": 33,
     "metadata": {},
     "output_type": "execute_result"
    }
   ],
   "source": [
    "protected_area_2000_df = mdg_df.loc[(mdg_df['SeriesCode'] == 616) & mdg_df['2000']]\n",
    "\n",
    "log_transformed_protected_area_2000_df = protected_area_2000_df[['Country', '2000']].copy()\n",
    "log_transformed_protected_area_2000_df['2000'] = log_transformed_protected_area_2000_df['2000'].apply(np.log1p)\n",
    "\n",
    "log_transformed_protected_area_2000_df = log_transformed_protected_area_2000_df.rename(columns={'2000': 'log_transformed_protected_area_value'})\n",
    "\n",
    "log_transformed_protected_area_2000_df.head()"
   ]
  },
  {
   "cell_type": "code",
   "execution_count": 34,
   "metadata": {},
   "outputs": [
    {
     "data": {
      "image/png": "[encoded data removed]",
      "text/plain": [
       "<Figure size 1200x600 with 2 Axes>"
      ]
     },
     "metadata": {},
     "output_type": "display_data"
    }
   ],
   "source": [
    "plt.figure(figsize=(12, 6))\n",
    "\n",
    "plt.subplot(1, 2, 1)\n",
    "sns.histplot(log_transformed_land_area_covered_2000_df['log_transformed_forested_land_area_value'], color='blue', bins=40, kde=True)\n",
    "plt.xlabel('Log(Proportion of land area covered by forest)', fontweight='bold')\n",
    "plt.ylabel('Frequency', fontweight='bold')\n",
    "plt.title('Histogram of Log-transformed Land Area Covered (2000)', fontweight='bold')\n",
    "\n",
    "plt.subplot(1, 2, 2)\n",
    "sns.histplot(log_transformed_protected_area_2000_df['log_transformed_protected_area_value'], color='green', bins=40, kde=True)\n",
    "plt.xlabel('Log(Terrestrial and marine areas protected\\n to total territorial area, percentage)', fontweight='bold')\n",
    "plt.ylabel('Frequency', fontweight='bold')\n",
    "plt.title('Histogram of Log-transformed Protected Area (2000)', fontweight='bold')\n",
    "\n",
    "plt.tight_layout()\n",
    "plt.show()"
   ]
  },
  {
   "cell_type": "markdown",
   "metadata": {},
   "source": [
    "After analyzing the histogram of the log of both series values, it appears that the proportion of forest-covered land area follows a negatively skewed Gaussian distribution, while the distribution of terrestrial and marine areas is more dispersed."
   ]
  },
  {
   "cell_type": "markdown",
   "metadata": {},
   "source": [
    "### Determining the Pearson correlation coefficient (and its corresponding p-value)\n",
    "\n",
    "To establish a relationship between the proportion of forest coverage in a land area and the percentage of that area that is protected, the Pearson correlation coefficient and its corresponding p-value can be determined using the pearsonr function from the scipy.stats module.\n",
    "\n",
    "To use this function, it is necessary to refer back to the cleaned and filtered dataframes named `forest_df` and `protected_df`. Both dataframes have been cleaned and had their NaN values removed based on their series. However, after being cleaned, they have different sizes. Therefore, to calculate the Pearson correlation and its p-value, it is important to ensure that both dataframes have the same size."
   ]
  },
  {
   "cell_type": "code",
   "execution_count": 35,
   "metadata": {},
   "outputs": [
    {
     "name": "stdout",
     "output_type": "stream",
     "text": [
      "The Pearson correlation coefficient of the two variables is 0.13108\n",
      "Its p-value is 0.07612\n"
     ]
    }
   ],
   "source": [
    "land_area_covered_1990_df = mdg_df.loc[(mdg_df['SeriesCode'] == 567) & mdg_df['1990']]\n",
    "protected_area_1990_df = mdg_df.loc[(mdg_df['SeriesCode'] == 616) & mdg_df['1990']]\n",
    "\n",
    "log_transformed_land_area_covered_1990_df = land_area_covered_1990_df[['Country', '1990']].copy()\n",
    "log_transformed_land_area_covered_1990_df['1990'] = log_transformed_land_area_covered_1990_df['1990'].apply(np.log1p)\n",
    "\n",
    "log_transformed_protected_area_1990_df = protected_area_1990_df[['Country', '1990']].copy()\n",
    "log_transformed_protected_area_1990_df['1990'] = log_transformed_protected_area_1990_df['1990'].apply(np.log1p)\n",
    "\n",
    "common_countries = set(log_transformed_land_area_covered_1990_df['Country']).intersection(log_transformed_protected_area_1990_df['Country'])\n",
    "\n",
    "\n",
    "filtered_land_area_covered_1990_df = log_transformed_land_area_covered_1990_df[log_transformed_land_area_covered_1990_df['Country'].isin(common_countries)]\n",
    "filtered_protected_area_1990_df = log_transformed_protected_area_1990_df[log_transformed_protected_area_1990_df['Country'].isin(common_countries)]\n",
    "\n",
    "\n",
    "land_area_covered_1990_values = filtered_land_area_covered_1990_df['1990'].values\n",
    "protected_area_1990_values = filtered_protected_area_1990_df['1990'].values\n",
    "\n",
    "pearson_correlation_coefficient_1990, pearson_p_value_1990 = sp.pearsonr(land_area_covered_1990_values, protected_area_1990_values)\n",
    "\n",
    "print(f\"The Pearson correlation coefficient of the two variables is {round(pearson_correlation_coefficient_1990, 5)}\")\n",
    "print(f\"Its p-value is {round(pearson_p_value_1990, 5)}\")\n"
   ]
  },
  {
   "cell_type": "markdown",
   "metadata": {},
   "source": [
    "The `set()` attribute was used to ensure that the values used in both series are of the same corresponding countries, this was to ensure data consistency and remove any bias that could emerge and ensure validity in the analysis.\n",
    "\n",
    "There is a positive correlation coefficient between two series that were measured and linearised in 1990. This means that there is a positive, yet weak linear correlation between the proportion of land area covered by forests and the percentage of the area that is protected. In simpler terms, as the proportion of land area covered by forests increases, the percentage of the area that is protected also tends to increase. However, it is important to note that this linear relationship does not imply causation. \n",
    "\n",
    "If the null hypothesis states that there is no relationship between the two series, or that the correlation coefficient is zero. The alternative hypothesis (H1)  states that there is a relationship between the two series, and the correlation coefficient is not zero.\n",
    "Using a significance level of 0.05, `0.07612` >= 0.05 this fails to reject the null hypothesis. In other words: there is not enough evidence to conclude that there is a significant linear relationship between the two variables at the 5% significance level."
   ]
  },
  {
   "cell_type": "markdown",
   "metadata": {},
   "source": [
    "### Calculate the Spearman Rank-Order Correlation Coefficient. \n",
    "\n",
    "This test only examines the order in which categories are placed, and not the actual values. As a result, the Spearman Rank-Order Coefficient is not affected by variables that are not normally distributed, or by outliers. The findings of this test will be compared to those obtained from the Pearson Correlation coefficient to determine any similarities or differences, and to understand what those differences might mean."
   ]
  },
  {
   "cell_type": "code",
   "execution_count": 36,
   "metadata": {},
   "outputs": [
    {
     "name": "stdout",
     "output_type": "stream",
     "text": [
      "The Spearman Rank-Order Correlation Coefficient of the two variables is 0.34231\n",
      "Its p-value is 0.0704\n"
     ]
    }
   ],
   "source": [
    "spearman_p_value_1990, spearman_correlation_coefficient_1990  = sp.spearmanr(land_area_covered_1990_values, protected_area_1990_values)\n",
    "\n",
    "print(f\"The Spearman Rank-Order Correlation Coefficient of the two variables is {round(spearman_correlation_coefficient_1990, 5)}\")\n",
    "print(f\"Its p-value is {round(spearman_p_value_1990, 5)}\")"
   ]
  },
  {
   "cell_type": "markdown",
   "metadata": {},
   "source": [
    "The Spearman Rank-Order correlation coefficient value of `0.34231` suggests that there is a moderate positive monotonic relationship between the two series being analyzed. This coefficient is based on the rank of the data values rather than their actual numerical values. Therefore, it is more suitable for variables that do not have a linear relationship or when the data are ordinal or not normally distributed. \n",
    "\n",
    "It is worth noting that the value of the Spearman rank-order coefficient is greater than the value of the Pearson correlation, indicating that there is a stronger monotonic relationship between the proportion of land area covered by forests and the percentage of the area that is protected.\n",
    "\n",
    "The Spearman Rank-Order Correlation Coefficient has a p-value of `0.0704`, which means that there is a 7.04% chance of observing the correlation coefficient calculated if the null hypothesis is true. The null hypothesis usually assumes that there is no correlation between the variables. Therefore, we fail to reject the null hypothesis at the 0.05 level of significance. Hence, we do not have enough evidence to conclude that there is a significant correlation between the variables at the conventional level of significance."
   ]
  },
  {
   "cell_type": "markdown",
   "metadata": {},
   "source": [
    "___"
   ]
  },
  {
   "cell_type": "markdown",
   "metadata": {},
   "source": [
    "# 3 Conclusions and Insights\n",
    "\n",
    "The initial stage of the report centred on data cleaning and preparation, which involved filtering it by the three series that focused on the different Millennium Development Goals. These were the proportion of land area covered by forest, carbon dioxide emissions (CO2), thousand metric tons of CO2 (CDIAC), and terrestrial and marine areas protected to the total territorial area. After removing unnecessary columns and all NaN values, the analysis was ready to proceed.\n",
    "\n",
    "Regarding CO2 emissions, the primary focus was on the year 1990, and the data was found to be positively skewed. The attention then shifted to emissions in six countries - Brazil, Russia, China, India, the USA, and South Africa - over time. Most countries showed steady inclines, while some had constant emissions over time such as India and South Africa. Only China demonstrated a significant exponential increase over the years.\n",
    "\n",
    "The subsequent focus was on the relationship between the proportion of land area covered by forest and terrestrial and marine areas protected to the total territorial area. By linearizing the two series columns and plotting a scatter plot with a linear regression line, a positive linear relationship was discovered. This was further supported by the results of the Pearson correlation coefficient yet the results of the Spearman Rank-Order Correlation Coefficient would then suggest that the correlation observed would be due to other factors or random chance.\n"
   ]
  },
  {
   "cell_type": "markdown",
   "metadata": {},
   "source": [
    "___"
   ]
  }
 ],
 "metadata": {
  "kernelspec": {
   "display_name": "base",
   "language": "python",
   "name": "python3"
  },
  "language_info": {
   "codemirror_mode": {
    "name": "ipython",
    "version": 3
   },
   "file_extension": ".py",
   "mimetype": "text/x-python",
   "name": "python",
   "nbconvert_exporter": "python",
   "pygments_lexer": "ipython3",
   "version": "3.11.4"
  }
 },
 "nbformat": 4,
 "nbformat_minor": 4
}
